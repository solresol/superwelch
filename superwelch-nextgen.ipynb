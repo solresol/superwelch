{
 "cells": [
  {
   "cell_type": "markdown",
   "id": "7cc5aec7",
   "metadata": {},
   "source": [
    "# Can we beat Welch's t-test?\n",
    "\n",
    "The current version of this script is super-stupid. But to do any interesting research, you have to plant\n",
    "a few small acorns, and this is the smallest of acorns.\n",
    "\n",
    "Suppose you have to evaluate NUMBER_OF_EXPERIMENTS very small experiments. By a weird\n",
    "coincidence, they all have the same number of participants. There are CONTROL_GROUP_SIZE patients\n",
    "getting a placebo, and EXPERIMENT_GROUP_SIZE getting a drug.\n",
    "\n",
    "Unfortunately approximately PROPORTION_OF_EXPERIMENTS_THAT_DO_NOTHING of those drugs actually have no effect either.\n",
    "\n",
    "You want to create a classifier to determine whether or not the experimental drug worked.\n",
    "\n",
    "Also, amazingly, the control group and the experimental group metrics are normally distributed. \n",
    "\n",
    "You don't know the population mean or standard deviation: you don't know it for the control group \n",
    "and you don't know it for the experimental group.\n",
    "\n",
    "You do know that the control group's standard deviation is somewhere between \n",
    "CONTROL_POPULATION_STDDEV_LOW and CONTROL_POPULATION_STDDEV_HIGH. You know this\n",
    "because you know something about your field, it would be impossible for the standard deviation to be\n",
    "outside of these bounds.\n",
    "\n",
    "Obviously, the experiments where the drug is useless the experimental data will have the same mean and standard deviation as the controls.\n",
    "\n",
    "In the experiments where the drug is useful, they differ. You don't know how much, but you can put some bounds\n",
    "on it:\n",
    "\n",
    "- the distribution of data from a successful experimental will have a mean within EXPERIMENTAL_MEAN_RANGE of\n",
    "  the control group's mean\n",
    "  \n",
    "- the standard deviation will be between EXPERIMENTAL_STDDEV_LOW and EXPERIMENTAL_STDDEV_HIGH\n",
    "\n",
    "-------\n",
    "\n",
    "Being a well-trained statistician with years of experience, you use Welch's t-test.\n",
    "\n",
    "Your offsider is a clueless data scientist whose sole training consisted of reading the sklearn documentation.\n",
    "\n",
    "Who wins?"
   ]
  },
  {
   "cell_type": "markdown",
   "id": "cd415d24",
   "metadata": {},
   "source": [
    "--------\n",
    "It depends on PROPORTION_OF_EXPERIMENTS_THAT_DO_NOTHING. If this is very high (e.g. 0.9) then just about\n",
    "any approach will beat the Welch t-test: giving better accuracy and a lower type 1 error. 1000 data points\n",
    "and a random forest classifier, a neural network... even nearest neighbours techniques will work.\n",
    "\n",
    "If it is moderately high (e.g. 0.66) then random forests can usually beat the Welch t-test for accuracy,\n",
    "and keep the type 1 errors below 0.05 with 1000 data points. With a bit more data (around 10,000) a neural\n",
    "network can do the same. With 1,000,000 data points the poly-linear approach can do it.\n",
    "\n",
    "If it is low (e.g. 0.1) then most algorithms can beat Welch on accuracy, but keeping the type 1 errors\n",
    "below 0.05 becomes very difficult."
   ]
  },
  {
   "cell_type": "markdown",
   "id": "dd42d936",
   "metadata": {},
   "source": [
    "**Thoughts**: if we have a prior on the likelihood of success of the experiment, we can make a better\n",
    "discriminator. So the right thing I need to compare against is some sort of pseudo-Bayesian version\n",
    "of the Welch t-test."
   ]
  },
  {
   "cell_type": "code",
   "execution_count": 1,
   "id": "ff034d8a",
   "metadata": {},
   "outputs": [],
   "source": [
    "CONTROL_GROUP_SIZE=4\n",
    "EXPERIMENT_GROUP_SIZE=3\n",
    "#PROPORTION_OF_EXPERIMENTS_THAT_DO_NOTHING=0.66\n",
    "PROPORTION_OF_EXPERIMENTS_THAT_DO_NOTHING=0.75\n",
    "#PROPORTION_OF_EXPERIMENTS_THAT_DO_NOTHING=0.9\n",
    "#PROPORTION_OF_EXPERIMENTS_THAT_DO_NOTHING=0.1\n",
    "\n",
    "NUMBER_OF_EXPERIMENTS=1000\n",
    "\n",
    "CONTROL_POPULATION_STDDEV_LOW=1\n",
    "CONTROL_POPULATION_STDDEV_HIGH=5\n",
    "\n",
    "EXPERIMENTAL_MEAN_RANGE=10\n",
    "EXPERIMENTAL_STDDEV_LOW=1\n",
    "EXPERIMENTAL_STDDEV_HIGH=10"
   ]
  },
  {
   "cell_type": "code",
   "execution_count": 2,
   "id": "fa118315",
   "metadata": {},
   "outputs": [],
   "source": [
    "import scipy\n",
    "import scipy.stats\n",
    "import collections\n",
    "import pandas\n",
    "import numpy\n",
    "import sklearn.model_selection\n",
    "import sklearn.svm\n",
    "import sklearn.dummy\n",
    "import sklearn.metrics\n",
    "import sklearn.tree\n",
    "import sklearn.ensemble\n",
    "import sklearn.neighbors\n",
    "from sklearn.base import BaseEstimator, TransformerMixin, ClassifierMixin"
   ]
  },
  {
   "cell_type": "code",
   "execution_count": 3,
   "id": "062d5fd1",
   "metadata": {},
   "outputs": [],
   "source": [
    "Experiment = collections.namedtuple(\"Experiment\",\n",
    "                                    [\"ControlLoc\", \"ControlScale\", \"ControlValues\",\n",
    "                                     \"ObservedControlMean\", \"ObservedControlStddev\",\n",
    "                                   \"ExperimentLoc\", \"ExperimentScale\", \"ExperimentValues\", \n",
    "                                   \"ShouldShowResult\"])"
   ]
  },
  {
   "cell_type": "code",
   "execution_count": 4,
   "id": "3877694a",
   "metadata": {},
   "outputs": [],
   "source": [
    "def generate_experiment():\n",
    "    null_experiment = scipy.stats.uniform.rvs() <= PROPORTION_OF_EXPERIMENTS_THAT_DO_NOTHING\n",
    "    # wlog...\n",
    "    control_loc = 0\n",
    "    control_scale = scipy.stats.uniform.rvs(loc=CONTROL_POPULATION_STDDEV_LOW,\n",
    "                                            scale=CONTROL_POPULATION_STDDEV_HIGH-CONTROL_POPULATION_STDDEV_LOW)\n",
    "    if null_experiment:\n",
    "        experiment_loc = control_loc\n",
    "        experiment_scale = control_scale\n",
    "    else:\n",
    "        experiment_loc = scipy.stats.uniform.rvs(loc=0, scale=EXPERIMENTAL_MEAN_RANGE)\n",
    "        experiment_scale = scipy.stats.uniform.rvs(loc=EXPERIMENTAL_STDDEV_LOW, \n",
    "                                                   scale=EXPERIMENTAL_STDDEV_HIGH-EXPERIMENTAL_STDDEV_LOW)\n",
    "    control_values = numpy.sort(scipy.stats.norm.rvs(loc=control_loc, scale=control_scale, size=CONTROL_GROUP_SIZE))\n",
    "    experiment_values = numpy.sort(scipy.stats.norm.rvs(loc=experiment_loc, scale=experiment_scale, size=EXPERIMENT_GROUP_SIZE))\n",
    "    return Experiment(ControlLoc=control_loc, \n",
    "                      ControlScale=control_scale,\n",
    "                     ControlValues=control_values,\n",
    "                      ObservedControlMean=control_values.mean(),\n",
    "                      ObservedControlStddev=control_values.std(),\n",
    "                     ExperimentLoc=experiment_loc,\n",
    "                     ExperimentScale=experiment_scale,\n",
    "                     ExperimentValues=experiment_values,\n",
    "                     ShouldShowResult=not(null_experiment))\n",
    "\n",
    "def generate_experiments(number_of_experiments):\n",
    "    return [generate_experiment() for n in range(number_of_experiments)]"
   ]
  },
  {
   "cell_type": "code",
   "execution_count": 5,
   "id": "8716cda9",
   "metadata": {},
   "outputs": [],
   "source": [
    "def create_feature_dataframe(experiments):\n",
    "    records = []\n",
    "    for experiment in experiments:\n",
    "        record = {}\n",
    "        mean = experiment.ObservedControlMean\n",
    "        s = experiment.ObservedControlStddev\n",
    "        # We will need to shift everything down by mean, and divide by s\n",
    "        for i in range(CONTROL_GROUP_SIZE):\n",
    "            record[f\"c{i}\"] = (experiment.ControlValues[i] - mean) / s\n",
    "        for i in range(EXPERIMENT_GROUP_SIZE):\n",
    "            record[f\"x{i}\"] = (experiment.ExperimentValues[i] - mean) / s\n",
    "        records.append(record)\n",
    "    raw_data_dataframe = pandas.DataFrame.from_records(records)\n",
    "    for i in range(EXPERIMENT_GROUP_SIZE):\n",
    "        for j in range(CONTROL_GROUP_SIZE):\n",
    "            raw_data_dataframe[f\"t_c{j}x{i}\"] = raw_data_dataframe[f\"c{j}\"] - raw_data_dataframe[f\"x{i}\"]\n",
    "    return raw_data_dataframe\n",
    "\n",
    "def create_target_series(experiments):\n",
    "    return pandas.Series([x.ShouldShowResult for x in experiments])"
   ]
  },
  {
   "cell_type": "code",
   "execution_count": 6,
   "id": "6ac8132f",
   "metadata": {},
   "outputs": [
    {
     "data": {
      "text/html": [
       "<div>\n",
       "<style scoped>\n",
       "    .dataframe tbody tr th:only-of-type {\n",
       "        vertical-align: middle;\n",
       "    }\n",
       "\n",
       "    .dataframe tbody tr th {\n",
       "        vertical-align: top;\n",
       "    }\n",
       "\n",
       "    .dataframe thead th {\n",
       "        text-align: right;\n",
       "    }\n",
       "</style>\n",
       "<table border=\"1\" class=\"dataframe\">\n",
       "  <thead>\n",
       "    <tr style=\"text-align: right;\">\n",
       "      <th></th>\n",
       "      <th>c0</th>\n",
       "      <th>c1</th>\n",
       "      <th>c2</th>\n",
       "      <th>c3</th>\n",
       "      <th>x0</th>\n",
       "      <th>x1</th>\n",
       "      <th>x2</th>\n",
       "      <th>t_c0x0</th>\n",
       "      <th>t_c1x0</th>\n",
       "      <th>t_c2x0</th>\n",
       "      <th>t_c3x0</th>\n",
       "      <th>t_c0x1</th>\n",
       "      <th>t_c1x1</th>\n",
       "      <th>t_c2x1</th>\n",
       "      <th>t_c3x1</th>\n",
       "      <th>t_c0x2</th>\n",
       "      <th>t_c1x2</th>\n",
       "      <th>t_c2x2</th>\n",
       "      <th>t_c3x2</th>\n",
       "    </tr>\n",
       "  </thead>\n",
       "  <tbody>\n",
       "    <tr>\n",
       "      <th>0</th>\n",
       "      <td>-0.691839</td>\n",
       "      <td>-0.596464</td>\n",
       "      <td>-0.436526</td>\n",
       "      <td>1.724829</td>\n",
       "      <td>-2.716865</td>\n",
       "      <td>1.001952</td>\n",
       "      <td>1.970153</td>\n",
       "      <td>2.025025</td>\n",
       "      <td>2.120400</td>\n",
       "      <td>2.280339</td>\n",
       "      <td>4.441693</td>\n",
       "      <td>-1.693791</td>\n",
       "      <td>-1.598416</td>\n",
       "      <td>-1.438478</td>\n",
       "      <td>0.722877</td>\n",
       "      <td>-2.661992</td>\n",
       "      <td>-2.566617</td>\n",
       "      <td>-2.406679</td>\n",
       "      <td>-0.245324</td>\n",
       "    </tr>\n",
       "    <tr>\n",
       "      <th>1</th>\n",
       "      <td>-1.503181</td>\n",
       "      <td>-0.009991</td>\n",
       "      <td>0.210919</td>\n",
       "      <td>1.302252</td>\n",
       "      <td>-1.053387</td>\n",
       "      <td>-0.232376</td>\n",
       "      <td>0.231981</td>\n",
       "      <td>-0.449794</td>\n",
       "      <td>1.043396</td>\n",
       "      <td>1.264306</td>\n",
       "      <td>2.355639</td>\n",
       "      <td>-1.270805</td>\n",
       "      <td>0.222385</td>\n",
       "      <td>0.443295</td>\n",
       "      <td>1.534628</td>\n",
       "      <td>-1.735162</td>\n",
       "      <td>-0.241972</td>\n",
       "      <td>-0.021061</td>\n",
       "      <td>1.070271</td>\n",
       "    </tr>\n",
       "    <tr>\n",
       "      <th>2</th>\n",
       "      <td>-1.494451</td>\n",
       "      <td>0.062556</td>\n",
       "      <td>0.108683</td>\n",
       "      <td>1.323212</td>\n",
       "      <td>0.063866</td>\n",
       "      <td>0.157861</td>\n",
       "      <td>0.281101</td>\n",
       "      <td>-1.558317</td>\n",
       "      <td>-0.001310</td>\n",
       "      <td>0.044817</td>\n",
       "      <td>1.259347</td>\n",
       "      <td>-1.652312</td>\n",
       "      <td>-0.095305</td>\n",
       "      <td>-0.049178</td>\n",
       "      <td>1.165351</td>\n",
       "      <td>-1.775552</td>\n",
       "      <td>-0.218545</td>\n",
       "      <td>-0.172418</td>\n",
       "      <td>1.042112</td>\n",
       "    </tr>\n",
       "    <tr>\n",
       "      <th>3</th>\n",
       "      <td>-1.370092</td>\n",
       "      <td>-0.538885</td>\n",
       "      <td>0.882534</td>\n",
       "      <td>1.026443</td>\n",
       "      <td>-2.463699</td>\n",
       "      <td>-1.805063</td>\n",
       "      <td>-0.894816</td>\n",
       "      <td>1.093607</td>\n",
       "      <td>1.924814</td>\n",
       "      <td>3.346233</td>\n",
       "      <td>3.490142</td>\n",
       "      <td>0.434971</td>\n",
       "      <td>1.266178</td>\n",
       "      <td>2.687596</td>\n",
       "      <td>2.831506</td>\n",
       "      <td>-0.475275</td>\n",
       "      <td>0.355931</td>\n",
       "      <td>1.777350</td>\n",
       "      <td>1.921260</td>\n",
       "    </tr>\n",
       "    <tr>\n",
       "      <th>4</th>\n",
       "      <td>-1.176079</td>\n",
       "      <td>-0.682379</td>\n",
       "      <td>0.468652</td>\n",
       "      <td>1.389806</td>\n",
       "      <td>-0.857129</td>\n",
       "      <td>-0.608565</td>\n",
       "      <td>-0.172936</td>\n",
       "      <td>-0.318951</td>\n",
       "      <td>0.174749</td>\n",
       "      <td>1.325781</td>\n",
       "      <td>2.246935</td>\n",
       "      <td>-0.567514</td>\n",
       "      <td>-0.073814</td>\n",
       "      <td>1.077217</td>\n",
       "      <td>1.998371</td>\n",
       "      <td>-1.003143</td>\n",
       "      <td>-0.509443</td>\n",
       "      <td>0.641589</td>\n",
       "      <td>1.562742</td>\n",
       "    </tr>\n",
       "    <tr>\n",
       "      <th>...</th>\n",
       "      <td>...</td>\n",
       "      <td>...</td>\n",
       "      <td>...</td>\n",
       "      <td>...</td>\n",
       "      <td>...</td>\n",
       "      <td>...</td>\n",
       "      <td>...</td>\n",
       "      <td>...</td>\n",
       "      <td>...</td>\n",
       "      <td>...</td>\n",
       "      <td>...</td>\n",
       "      <td>...</td>\n",
       "      <td>...</td>\n",
       "      <td>...</td>\n",
       "      <td>...</td>\n",
       "      <td>...</td>\n",
       "      <td>...</td>\n",
       "      <td>...</td>\n",
       "      <td>...</td>\n",
       "    </tr>\n",
       "    <tr>\n",
       "      <th>995</th>\n",
       "      <td>-1.408009</td>\n",
       "      <td>-0.317933</td>\n",
       "      <td>0.400917</td>\n",
       "      <td>1.325026</td>\n",
       "      <td>1.969687</td>\n",
       "      <td>10.347297</td>\n",
       "      <td>19.125269</td>\n",
       "      <td>-3.377696</td>\n",
       "      <td>-2.287620</td>\n",
       "      <td>-1.568770</td>\n",
       "      <td>-0.644661</td>\n",
       "      <td>-11.755307</td>\n",
       "      <td>-10.665231</td>\n",
       "      <td>-9.946380</td>\n",
       "      <td>-9.022272</td>\n",
       "      <td>-20.533278</td>\n",
       "      <td>-19.443202</td>\n",
       "      <td>-18.724352</td>\n",
       "      <td>-17.800243</td>\n",
       "    </tr>\n",
       "    <tr>\n",
       "      <th>996</th>\n",
       "      <td>-1.057065</td>\n",
       "      <td>-0.907721</td>\n",
       "      <td>0.728952</td>\n",
       "      <td>1.235834</td>\n",
       "      <td>-4.658587</td>\n",
       "      <td>-1.766371</td>\n",
       "      <td>1.051346</td>\n",
       "      <td>3.601522</td>\n",
       "      <td>3.750866</td>\n",
       "      <td>5.387539</td>\n",
       "      <td>5.894421</td>\n",
       "      <td>0.709306</td>\n",
       "      <td>0.858650</td>\n",
       "      <td>2.495323</td>\n",
       "      <td>3.002205</td>\n",
       "      <td>-2.108411</td>\n",
       "      <td>-1.959067</td>\n",
       "      <td>-0.322394</td>\n",
       "      <td>0.184488</td>\n",
       "    </tr>\n",
       "    <tr>\n",
       "      <th>997</th>\n",
       "      <td>-1.358495</td>\n",
       "      <td>-0.554133</td>\n",
       "      <td>0.860520</td>\n",
       "      <td>1.052108</td>\n",
       "      <td>-4.239325</td>\n",
       "      <td>-1.542517</td>\n",
       "      <td>0.671389</td>\n",
       "      <td>2.880830</td>\n",
       "      <td>3.685192</td>\n",
       "      <td>5.099846</td>\n",
       "      <td>5.291434</td>\n",
       "      <td>0.184022</td>\n",
       "      <td>0.988384</td>\n",
       "      <td>2.403037</td>\n",
       "      <td>2.594626</td>\n",
       "      <td>-2.029884</td>\n",
       "      <td>-1.225522</td>\n",
       "      <td>0.189131</td>\n",
       "      <td>0.380720</td>\n",
       "    </tr>\n",
       "    <tr>\n",
       "      <th>998</th>\n",
       "      <td>-0.819435</td>\n",
       "      <td>-0.549718</td>\n",
       "      <td>-0.337443</td>\n",
       "      <td>1.706596</td>\n",
       "      <td>-2.606711</td>\n",
       "      <td>0.669064</td>\n",
       "      <td>2.132437</td>\n",
       "      <td>1.787275</td>\n",
       "      <td>2.056993</td>\n",
       "      <td>2.269268</td>\n",
       "      <td>4.313306</td>\n",
       "      <td>-1.488499</td>\n",
       "      <td>-1.218782</td>\n",
       "      <td>-1.006507</td>\n",
       "      <td>1.037532</td>\n",
       "      <td>-2.951872</td>\n",
       "      <td>-2.682154</td>\n",
       "      <td>-2.469879</td>\n",
       "      <td>-0.425841</td>\n",
       "    </tr>\n",
       "    <tr>\n",
       "      <th>999</th>\n",
       "      <td>-1.350726</td>\n",
       "      <td>-0.131498</td>\n",
       "      <td>0.013185</td>\n",
       "      <td>1.469039</td>\n",
       "      <td>-0.636122</td>\n",
       "      <td>-0.483851</td>\n",
       "      <td>0.220833</td>\n",
       "      <td>-0.714604</td>\n",
       "      <td>0.504624</td>\n",
       "      <td>0.649307</td>\n",
       "      <td>2.105161</td>\n",
       "      <td>-0.866875</td>\n",
       "      <td>0.352352</td>\n",
       "      <td>0.497036</td>\n",
       "      <td>1.952889</td>\n",
       "      <td>-1.571559</td>\n",
       "      <td>-0.352331</td>\n",
       "      <td>-0.207648</td>\n",
       "      <td>1.248206</td>\n",
       "    </tr>\n",
       "  </tbody>\n",
       "</table>\n",
       "<p>1000 rows × 19 columns</p>\n",
       "</div>"
      ],
      "text/plain": [
       "           c0        c1        c2        c3        x0         x1         x2  \\\n",
       "0   -0.691839 -0.596464 -0.436526  1.724829 -2.716865   1.001952   1.970153   \n",
       "1   -1.503181 -0.009991  0.210919  1.302252 -1.053387  -0.232376   0.231981   \n",
       "2   -1.494451  0.062556  0.108683  1.323212  0.063866   0.157861   0.281101   \n",
       "3   -1.370092 -0.538885  0.882534  1.026443 -2.463699  -1.805063  -0.894816   \n",
       "4   -1.176079 -0.682379  0.468652  1.389806 -0.857129  -0.608565  -0.172936   \n",
       "..        ...       ...       ...       ...       ...        ...        ...   \n",
       "995 -1.408009 -0.317933  0.400917  1.325026  1.969687  10.347297  19.125269   \n",
       "996 -1.057065 -0.907721  0.728952  1.235834 -4.658587  -1.766371   1.051346   \n",
       "997 -1.358495 -0.554133  0.860520  1.052108 -4.239325  -1.542517   0.671389   \n",
       "998 -0.819435 -0.549718 -0.337443  1.706596 -2.606711   0.669064   2.132437   \n",
       "999 -1.350726 -0.131498  0.013185  1.469039 -0.636122  -0.483851   0.220833   \n",
       "\n",
       "       t_c0x0    t_c1x0    t_c2x0    t_c3x0     t_c0x1     t_c1x1    t_c2x1  \\\n",
       "0    2.025025  2.120400  2.280339  4.441693  -1.693791  -1.598416 -1.438478   \n",
       "1   -0.449794  1.043396  1.264306  2.355639  -1.270805   0.222385  0.443295   \n",
       "2   -1.558317 -0.001310  0.044817  1.259347  -1.652312  -0.095305 -0.049178   \n",
       "3    1.093607  1.924814  3.346233  3.490142   0.434971   1.266178  2.687596   \n",
       "4   -0.318951  0.174749  1.325781  2.246935  -0.567514  -0.073814  1.077217   \n",
       "..        ...       ...       ...       ...        ...        ...       ...   \n",
       "995 -3.377696 -2.287620 -1.568770 -0.644661 -11.755307 -10.665231 -9.946380   \n",
       "996  3.601522  3.750866  5.387539  5.894421   0.709306   0.858650  2.495323   \n",
       "997  2.880830  3.685192  5.099846  5.291434   0.184022   0.988384  2.403037   \n",
       "998  1.787275  2.056993  2.269268  4.313306  -1.488499  -1.218782 -1.006507   \n",
       "999 -0.714604  0.504624  0.649307  2.105161  -0.866875   0.352352  0.497036   \n",
       "\n",
       "       t_c3x1     t_c0x2     t_c1x2     t_c2x2     t_c3x2  \n",
       "0    0.722877  -2.661992  -2.566617  -2.406679  -0.245324  \n",
       "1    1.534628  -1.735162  -0.241972  -0.021061   1.070271  \n",
       "2    1.165351  -1.775552  -0.218545  -0.172418   1.042112  \n",
       "3    2.831506  -0.475275   0.355931   1.777350   1.921260  \n",
       "4    1.998371  -1.003143  -0.509443   0.641589   1.562742  \n",
       "..        ...        ...        ...        ...        ...  \n",
       "995 -9.022272 -20.533278 -19.443202 -18.724352 -17.800243  \n",
       "996  3.002205  -2.108411  -1.959067  -0.322394   0.184488  \n",
       "997  2.594626  -2.029884  -1.225522   0.189131   0.380720  \n",
       "998  1.037532  -2.951872  -2.682154  -2.469879  -0.425841  \n",
       "999  1.952889  -1.571559  -0.352331  -0.207648   1.248206  \n",
       "\n",
       "[1000 rows x 19 columns]"
      ]
     },
     "execution_count": 6,
     "metadata": {},
     "output_type": "execute_result"
    }
   ],
   "source": [
    "experiments = generate_experiments(NUMBER_OF_EXPERIMENTS)\n",
    "feature_dataframe = create_feature_dataframe(experiments)\n",
    "feature_dataframe"
   ]
  },
  {
   "cell_type": "code",
   "execution_count": 7,
   "id": "243eea58",
   "metadata": {},
   "outputs": [],
   "source": [
    "classic_columns = [x for x in feature_dataframe.columns if x.startswith('c') or x.startswith('x')]\n",
    "synthesised_columns = [x for x in feature_dataframe.columns if x.startswith('t_')]\n",
    "all_columns = feature_dataframe.columns"
   ]
  },
  {
   "cell_type": "code",
   "execution_count": 8,
   "id": "2ebd33f6",
   "metadata": {},
   "outputs": [
    {
     "name": "stdout",
     "output_type": "stream",
     "text": [
      "target_series.mean()=0.264\n",
      "PROPORTION_OF_EXPERIMENTS_THAT_DO_NOTHING=0.75\n"
     ]
    }
   ],
   "source": [
    "target_series = create_target_series(experiments)\n",
    "print(f\"{target_series.mean()=}\\n{PROPORTION_OF_EXPERIMENTS_THAT_DO_NOTHING=}\")"
   ]
  },
  {
   "cell_type": "code",
   "execution_count": 9,
   "id": "04502bf3",
   "metadata": {},
   "outputs": [],
   "source": [
    "class WelchTTest(BaseEstimator, TransformerMixin, ClassifierMixin):\n",
    "    def __init__(self):\n",
    "        pass\n",
    "    def fit(self, X,y, weights=[]):\n",
    "        pass\n",
    "    def predict(self, Xs):\n",
    "        answer = []\n",
    "        for experiment in Xs:\n",
    "            outcome = scipy.stats.ttest_ind(experiment.ControlValues, experiment.ExperimentValues, equal_var=False)\n",
    "            if outcome.pvalue < 0.05:\n",
    "                answer.append(True)\n",
    "            else:\n",
    "                answer.append(False)\n",
    "        return answer\n",
    "    def predict_proba(self, Xs):\n",
    "        answer = []\n",
    "        for experiment in Xs:\n",
    "            outcome = scipy.stats.ttest_ind(experiment.ControlValues, experiment.ExperimentValues, equal_var=False)\n",
    "            # Is the following line correct? I think so, but maybe I should also be aware of the prior we have.\n",
    "            answer.append(1-outcome.pvalue)\n",
    "        return answer        "
   ]
  },
  {
   "cell_type": "code",
   "execution_count": 10,
   "id": "b1a5b03b",
   "metadata": {},
   "outputs": [
    {
     "name": "stdout",
     "output_type": "stream",
     "text": [
      "[[712  24]\n",
      " [204  60]]\n",
      "CPU times: user 138 ms, sys: 5.9 ms, total: 144 ms\n",
      "Wall time: 139 ms\n"
     ]
    }
   ],
   "source": [
    "%%time\n",
    "welch = WelchTTest()\n",
    "welch_answers = welch.predict(experiments)\n",
    "welch_probabilities = welch.predict_proba(experiments)\n",
    "print(sklearn.metrics.confusion_matrix(create_target_series(experiments), welch_answers))"
   ]
  },
  {
   "cell_type": "code",
   "execution_count": 11,
   "id": "8049f621",
   "metadata": {},
   "outputs": [],
   "source": [
    "def type_1_error_ratio(y_true, y_pred):\n",
    "    return sklearn.metrics.confusion_matrix(y_true, y_pred)[0][1] / len(y_true)\n",
    "\n",
    "type_1_error_score = sklearn.metrics.make_scorer(type_1_error_ratio, greater_is_better=False)"
   ]
  },
  {
   "cell_type": "markdown",
   "id": "5de16fad",
   "metadata": {},
   "source": [
    "## The target to beat...\n",
    "\n",
    "For accuracy."
   ]
  },
  {
   "cell_type": "code",
   "execution_count": 12,
   "id": "be8333a7",
   "metadata": {},
   "outputs": [
    {
     "data": {
      "text/plain": [
       "0.772"
      ]
     },
     "execution_count": 12,
     "metadata": {},
     "output_type": "execute_result"
    }
   ],
   "source": [
    "welch_accuracy = sklearn.metrics.accuracy_score(target_series, welch_answers)\n",
    "welch_accuracy"
   ]
  },
  {
   "cell_type": "markdown",
   "id": "ad4f5837",
   "metadata": {},
   "source": [
    "But you have to keep the type 1 error rate below this..."
   ]
  },
  {
   "cell_type": "code",
   "execution_count": 13,
   "id": "36f8c282",
   "metadata": {},
   "outputs": [
    {
     "data": {
      "text/plain": [
       "0.024"
      ]
     },
     "execution_count": 13,
     "metadata": {},
     "output_type": "execute_result"
    }
   ],
   "source": [
    "welch_type_1_error_ratio = type_1_error_ratio(target_series, welch_answers)\n",
    "welch_type_1_error_ratio"
   ]
  },
  {
   "cell_type": "code",
   "execution_count": 14,
   "id": "fc3da508",
   "metadata": {},
   "outputs": [
    {
     "data": {
      "text/plain": [
       "0.6950294384057971"
      ]
     },
     "execution_count": 14,
     "metadata": {},
     "output_type": "execute_result"
    }
   ],
   "source": [
    "welch_roc = sklearn.metrics.roc_auc_score(target_series, welch_probabilities)\n",
    "welch_roc"
   ]
  },
  {
   "cell_type": "code",
   "execution_count": 15,
   "id": "7d407ea6",
   "metadata": {},
   "outputs": [
    {
     "data": {
      "text/plain": [
       "<sklearn.metrics._plot.roc_curve.RocCurveDisplay at 0x134d34640>"
      ]
     },
     "execution_count": 15,
     "metadata": {},
     "output_type": "execute_result"
    },
    {
     "data": {
      "image/png": "[encoded data removed]",
      "text/plain": [
       "<Figure size 640x480 with 1 Axes>"
      ]
     },
     "metadata": {},
     "output_type": "display_data"
    }
   ],
   "source": [
    "fpr, tpr, thresholds = sklearn.metrics.roc_curve(target_series, welch_probabilities)\n",
    "roc_auc = sklearn.metrics.auc(fpr, tpr)\n",
    "display = sklearn.metrics.RocCurveDisplay(fpr=fpr, tpr=tpr, roc_auc=roc_auc,\n",
    "                                   estimator_name='Welch t-test')\n",
    "display.plot()"
   ]
  },
  {
   "cell_type": "code",
   "execution_count": null,
   "id": "0d74bb70",
   "metadata": {},
   "outputs": [],
   "source": []
  },
  {
   "cell_type": "markdown",
   "id": "066ade37",
   "metadata": {},
   "source": [
    "# Various utility functions"
   ]
  },
  {
   "cell_type": "code",
   "execution_count": 16,
   "id": "de5a53cc",
   "metadata": {},
   "outputs": [],
   "source": [
    "def display_awards(scores, award_recipient):\n",
    "    print(\"Mean accuracy:\", scores['test_accuracy'].mean())\n",
    "    print(\"Mean type 1 error:\", abs(scores['test_type_1_error_ratio'].mean()))\n",
    "    print(\"Mean ROC AUC score:\", scores['test_roc_auc'].mean())\n",
    "    if (abs(scores['test_type_1_error_ratio'].mean()) < 0.05 and scores['test_accuracy'].mean() > welch_accuracy):\n",
    "        print(f\"{award_recipient} beat the Welch t-test while maintaining a low type 1 error ratio\")\n",
    "    if abs(scores['test_type_1_error_ratio'].mean()) < welch_type_1_error_ratio:\n",
    "        print(f\"{award_recipient} beat the Welch t-test on type 1 errors\")\n",
    "    if (abs(scores['test_type_1_error_ratio'].mean()) < welch_type_1_error_ratio \n",
    "        and \n",
    "        scores['test_accuracy'].mean() > welch_accuracy):\n",
    "        print(f\"WE HAVE A WINNER!!!!\\n{award_recipient} beat the Welch t-test on type 1 errors AND on accuracy\")\n",
    "    if scores['test_roc_auc'].mean() > welch_roc:\n",
    "        print(f\"{award_recipient} beat Welch on ROC AUC\")"
   ]
  },
  {
   "cell_type": "code",
   "execution_count": 17,
   "id": "56552686",
   "metadata": {},
   "outputs": [],
   "source": [
    "def measure_sklearn(model, title, columns_to_use=None):\n",
    "    if columns_to_use is None:\n",
    "        columns_to_use = feature_dataframe.columns\n",
    "    scores = sklearn.model_selection.cross_validate(model, \n",
    "                                       feature_dataframe[columns_to_use],\n",
    "                                       target_series,\n",
    "                                       scoring={'accuracy': 'accuracy', \n",
    "                                                'type_1_error_ratio': type_1_error_score,\n",
    "                                               'roc_auc': 'roc_auc'},\n",
    "                                        cv=10\n",
    "                                      )\n",
    "    display_awards(scores, title)\n",
    "    return scores"
   ]
  },
  {
   "cell_type": "code",
   "execution_count": 18,
   "id": "5a006b5a",
   "metadata": {},
   "outputs": [],
   "source": [
    "class Calibrated(BaseEstimator, TransformerMixin, ClassifierMixin):\n",
    "    def __init__(self, model, maximum_type_1_error=1.0, minimum_accuracy=0.0):\n",
    "        self.model = model\n",
    "        self.maximum_type_1_error = maximum_type_1_error\n",
    "        self.minimum_accuracy = minimum_accuracy\n",
    "        self.minimum_proba = None\n",
    "        self.maximum_proba = None\n",
    "        self.used_threshold = None\n",
    "        \n",
    "    def fitted_range(self):\n",
    "        return (self.minimum_proba, self.maximum_proba)\n",
    "        \n",
    "    def fit(self, Xs, ys):\n",
    "        trainX, testX, trainY, testY = sklearn.model_selection.train_test_split(Xs, ys)\n",
    "        self.model.fit(trainX, trainY)\n",
    "        probs = self.model.predict_proba(testX)[:,1]\n",
    "        fpr, tpr, thresholds = sklearn.metrics.roc_curve(testY, probs)\n",
    "        accuracies = []\n",
    "        good_thresholds = []\n",
    "        for threshold in thresholds:\n",
    "            # Predicting classes based on the threshold\n",
    "            predicted = (probs >= threshold)\n",
    "    \n",
    "            # Computing the confusion matrix\n",
    "            tn, fp, fn, tp = sklearn.metrics.confusion_matrix(testY, predicted).ravel()\n",
    "    \n",
    "            # Calculating accuracy\n",
    "            accuracy = (tp + tn) / (tp + tn + fp + fn)\n",
    "            if accuracy >= self.minimum_accuracy and fp <= self.maximum_type_1_error:\n",
    "                #print(f\"At {threshold=}, {accuracy=} vs {self.minimum_accuracy=}\\n{fp=} vs {self.maximum_type_1_error=}\")\n",
    "                good_thresholds.append(threshold)\n",
    "        if len(good_thresholds) > 0:\n",
    "            self.minimum_proba = min(good_thresholds)\n",
    "            self.maximum_proba = max(good_thresholds)\n",
    "            self.used_threshold = (self.minimum_proba + self.maximum_proba) / 2\n",
    "        else:\n",
    "            self.minimum_proba = None\n",
    "            self.maximum_proba = None\n",
    "            self.used_threshold = 0.5\n",
    "        self.classes_ = self.model.classes_\n",
    "        #self.good_thresholds = good_thresholds\n",
    "        #self.thresholds = thresholds\n",
    "            \n",
    "    def predict(self, Xs):\n",
    "        probs = self.model.predict_proba(Xs)[:,1]\n",
    "        predictions = probs >= self.used_threshold\n",
    "        return predictions\n",
    "        \n",
    "    def predict_proba(self, Xs):\n",
    "        return self.model.predict_proba(Xs)\n",
    "        "
   ]
  },
  {
   "cell_type": "markdown",
   "id": "9999f6e2",
   "metadata": {},
   "source": [
    "## Just to be stupid\n",
    "\n",
    "Dummy gives us a baseline to be sure that the real models aren't just predicting the most common case.\n",
    "\n",
    "Also it lets me debug failure cases."
   ]
  },
  {
   "cell_type": "code",
   "execution_count": 19,
   "id": "e73dec8f",
   "metadata": {},
   "outputs": [
    {
     "name": "stdout",
     "output_type": "stream",
     "text": [
      "Mean accuracy: 0.736\n",
      "Mean type 1 error: 0.0\n",
      "Mean ROC AUC score: 0.5\n",
      "Dummy beat the Welch t-test on type 1 errors\n"
     ]
    }
   ],
   "source": [
    "dummy_scores = measure_sklearn(sklearn.dummy.DummyClassifier(strategy='most_frequent'), \"Dummy\")"
   ]
  },
  {
   "cell_type": "markdown",
   "id": "51d84e03",
   "metadata": {},
   "source": [
    "# Greg's favourite statistical test"
   ]
  },
  {
   "cell_type": "code",
   "execution_count": 20,
   "id": "d82bf9a8",
   "metadata": {},
   "outputs": [],
   "source": [
    "class UTest(BaseEstimator, TransformerMixin, ClassifierMixin):\n",
    "    def __init__(self):\n",
    "        pass\n",
    "    def fit(self, X,y, weights=[]):\n",
    "        pass\n",
    "    def predict(self, Xs):\n",
    "        answer = []\n",
    "        for experiment in Xs:\n",
    "            outcome = scipy.stats.mannwhitneyu(experiment.ControlValues, experiment.ExperimentValues)\n",
    "            if outcome.pvalue < 0.05:\n",
    "                answer.append(True)\n",
    "            else:\n",
    "                answer.append(False)\n",
    "        return answer\n",
    "    def predict_proba(self, Xs):\n",
    "        answer = []\n",
    "        for experiment in Xs:\n",
    "            outcome = scipy.stats.ttest_ind(experiment.ControlValues, experiment.ExperimentValues, equal_var=False)\n",
    "            # Is the following line correct? I think so, but maybe I should also be aware of the prior we have.\n",
    "            answer.append(1-outcome.pvalue)\n",
    "        return answer        "
   ]
  },
  {
   "cell_type": "code",
   "execution_count": 21,
   "id": "ea5a6dd4",
   "metadata": {},
   "outputs": [
    {
     "name": "stdout",
     "output_type": "stream",
     "text": [
      "[[736   0]\n",
      " [264   0]]\n",
      "CPU times: user 646 ms, sys: 33.5 ms, total: 680 ms\n",
      "Wall time: 304 ms\n"
     ]
    }
   ],
   "source": [
    "%%time\n",
    "u = UTest()\n",
    "u_answers = u.predict(experiments)\n",
    "u_probabilities = u.predict_proba(experiments)\n",
    "print(sklearn.metrics.confusion_matrix(create_target_series(experiments), u_answers))"
   ]
  },
  {
   "cell_type": "code",
   "execution_count": 22,
   "id": "61c4f288",
   "metadata": {},
   "outputs": [
    {
     "data": {
      "text/plain": [
       "0.736"
      ]
     },
     "execution_count": 22,
     "metadata": {},
     "output_type": "execute_result"
    }
   ],
   "source": [
    "u_accuracy = sklearn.metrics.accuracy_score(target_series, u_answers)\n",
    "u_accuracy"
   ]
  },
  {
   "cell_type": "code",
   "execution_count": 23,
   "id": "9872e05c",
   "metadata": {},
   "outputs": [
    {
     "data": {
      "text/plain": [
       "0.0"
      ]
     },
     "execution_count": 23,
     "metadata": {},
     "output_type": "execute_result"
    }
   ],
   "source": [
    "u_type_1_error_ratio = type_1_error_ratio(target_series, u_answers)\n",
    "u_type_1_error_ratio"
   ]
  },
  {
   "cell_type": "code",
   "execution_count": 24,
   "id": "6df93df2",
   "metadata": {},
   "outputs": [
    {
     "data": {
      "text/plain": [
       "0.6950294384057971"
      ]
     },
     "execution_count": 24,
     "metadata": {},
     "output_type": "execute_result"
    }
   ],
   "source": [
    "u_roc = sklearn.metrics.roc_auc_score(target_series, u_probabilities)\n",
    "u_roc"
   ]
  },
  {
   "cell_type": "markdown",
   "id": "e3565ef5",
   "metadata": {},
   "source": [
    "# Random forest using the original measurements\n",
    "\n",
    "It seems to beat Welch if there is enough training data."
   ]
  },
  {
   "cell_type": "code",
   "execution_count": 25,
   "id": "97a87cb8",
   "metadata": {},
   "outputs": [
    {
     "name": "stdout",
     "output_type": "stream",
     "text": [
      "Mean accuracy: 0.825\n",
      "Mean type 1 error: 0.063\n",
      "Mean ROC AUC score: 0.8410780379958464\n",
      "Random forest using original measurements beat Welch on ROC AUC\n",
      "CPU times: user 1.23 s, sys: 10.2 ms, total: 1.24 s\n",
      "Wall time: 1.24 s\n"
     ]
    }
   ],
   "source": [
    "%%time\n",
    "rfc_classic_scores = measure_sklearn(sklearn.ensemble.RandomForestClassifier(), \n",
    "                                     \"Random forest using original measurements\",\n",
    "                                    classic_columns)"
   ]
  },
  {
   "cell_type": "markdown",
   "id": "76bf6d7c",
   "metadata": {},
   "source": [
    "# Random forest using synthesised differences\n",
    "\n",
    "It seems to beat Welch if there is enough training data."
   ]
  },
  {
   "cell_type": "code",
   "execution_count": 26,
   "id": "982ad633",
   "metadata": {},
   "outputs": [
    {
     "name": "stdout",
     "output_type": "stream",
     "text": [
      "Mean accuracy: 0.8320000000000001\n",
      "Mean type 1 error: 0.05900000000000001\n",
      "Mean ROC AUC score: 0.8287835385438125\n",
      "Random forest using synthetic measurements beat Welch on ROC AUC\n",
      "CPU times: user 1.49 s, sys: 9.68 ms, total: 1.5 s\n",
      "Wall time: 1.5 s\n"
     ]
    }
   ],
   "source": [
    "%%time\n",
    "rfc_synthesised_scores = measure_sklearn(sklearn.ensemble.RandomForestClassifier(), \n",
    "                                     \"Random forest using synthetic measurements\",\n",
    "                                    synthesised_columns)"
   ]
  },
  {
   "cell_type": "markdown",
   "id": "18db0cd4",
   "metadata": {},
   "source": [
    "# Dodgy calibrated RF\n",
    "\n",
    "Maybe I was being naive, but I thought we might be able to reduce the type 1 error\n",
    "if we were OK dropping the accuracy a little."
   ]
  },
  {
   "cell_type": "code",
   "execution_count": 27,
   "id": "c1d2891e",
   "metadata": {},
   "outputs": [
    {
     "name": "stdout",
     "output_type": "stream",
     "text": [
      "Mean accuracy: 0.799\n",
      "Mean type 1 error: 0.039\n",
      "Mean ROC AUC score: 0.8424727282603994\n",
      "Calibrated random forest using classic measurements beat the Welch t-test while maintaining a low type 1 error ratio\n",
      "Calibrated random forest using classic measurements beat Welch on ROC AUC\n",
      "CPU times: user 1.19 s, sys: 9.29 ms, total: 1.2 s\n",
      "Wall time: 1.21 s\n"
     ]
    }
   ],
   "source": [
    "%%time\n",
    "rfc_classic_calibrated = measure_sklearn(Calibrated(sklearn.ensemble.RandomForestClassifier(),\n",
    "                                                   welch_type_1_error_ratio, welch_accuracy),\n",
    "                                        \"Calibrated random forest using classic measurements\",\n",
    "                                        classic_columns)"
   ]
  },
  {
   "cell_type": "code",
   "execution_count": 28,
   "id": "23aadb72",
   "metadata": {},
   "outputs": [
    {
     "name": "stdout",
     "output_type": "stream",
     "text": [
      "CPU times: user 137 ms, sys: 2.04 ms, total: 139 ms\n",
      "Wall time: 139 ms\n"
     ]
    }
   ],
   "source": [
    "%%time\n",
    "cal = Calibrated(sklearn.ensemble.RandomForestClassifier(), welch_type_1_error_ratio, welch_accuracy)\n",
    "cal.fit(feature_dataframe[synthesised_columns], target_series)"
   ]
  },
  {
   "cell_type": "code",
   "execution_count": 29,
   "id": "6b64bf16",
   "metadata": {},
   "outputs": [
    {
     "data": {
      "text/plain": [
       "(None, None)"
      ]
     },
     "execution_count": 29,
     "metadata": {},
     "output_type": "execute_result"
    }
   ],
   "source": [
    "cal.fitted_range()"
   ]
  },
  {
   "cell_type": "markdown",
   "id": "d88aedff",
   "metadata": {},
   "source": [
    "# Neighbour methods"
   ]
  },
  {
   "cell_type": "code",
   "execution_count": 30,
   "id": "677e6030",
   "metadata": {},
   "outputs": [
    {
     "name": "stdout",
     "output_type": "stream",
     "text": [
      "Mean accuracy: 0.8210000000000001\n",
      "Mean type 1 error: 0.067\n",
      "Mean ROC AUC score: 0.8060994213391472\n",
      "KNeighbours beat Welch on ROC AUC\n",
      "CPU times: user 37 ms, sys: 1.08 ms, total: 38.1 ms\n",
      "Wall time: 37.4 ms\n"
     ]
    }
   ],
   "source": [
    "%%time\n",
    "knn_classic_scores = measure_sklearn(sklearn.neighbors.KNeighborsClassifier(), 'KNeighbours', classic_columns)"
   ]
  },
  {
   "cell_type": "code",
   "execution_count": 31,
   "id": "721d9520",
   "metadata": {},
   "outputs": [
    {
     "name": "stdout",
     "output_type": "stream",
     "text": [
      "Mean accuracy: 0.8210000000000001\n",
      "Mean type 1 error: 0.067\n",
      "Mean ROC AUC score: 0.8062225027978451\n",
      "KNeighbours beat Welch on ROC AUC\n",
      "CPU times: user 38.7 ms, sys: 1.59 ms, total: 40.3 ms\n",
      "Wall time: 39.2 ms\n"
     ]
    }
   ],
   "source": [
    "%%time\n",
    "knn_synth_scores = measure_sklearn(sklearn.neighbors.KNeighborsClassifier(), 'KNeighbours', synthesised_columns)"
   ]
  },
  {
   "cell_type": "markdown",
   "id": "c5653754",
   "metadata": {},
   "source": [
    "# Neural networks"
   ]
  },
  {
   "cell_type": "code",
   "execution_count": 32,
   "id": "8bbcc6ab",
   "metadata": {},
   "outputs": [
    {
     "data": {
      "text/plain": [
       "[PhysicalDevice(name='/physical_device:CPU:0', device_type='CPU'),\n",
       " PhysicalDevice(name='/physical_device:GPU:0', device_type='GPU')]"
      ]
     },
     "execution_count": 32,
     "metadata": {},
     "output_type": "execute_result"
    }
   ],
   "source": [
    "from tensorflow.keras import models\n",
    "from tensorflow.keras import layers\n",
    "\n",
    "from sklearn.model_selection import KFold\n",
    "kfold = KFold(n_splits=5, shuffle=True)\n",
    "\n",
    "import numpy as np\n",
    "import tensorflow as tf\n",
    "tf.config.experimental.list_physical_devices()"
   ]
  },
  {
   "cell_type": "code",
   "execution_count": 33,
   "id": "70292626",
   "metadata": {},
   "outputs": [
    {
     "name": "stdout",
     "output_type": "stream",
     "text": [
      "Fold 0\n",
      "Metal device set to: Apple M1\n"
     ]
    },
    {
     "name": "stderr",
     "output_type": "stream",
     "text": [
      "2023-09-13 21:32:45.395207: I tensorflow/core/common_runtime/pluggable_device/pluggable_device_factory.cc:305] Could not identify NUMA node of platform GPU ID 0, defaulting to 0. Your kernel may not have been built with NUMA support.\n",
      "2023-09-13 21:32:45.395298: I tensorflow/core/common_runtime/pluggable_device/pluggable_device_factory.cc:271] Created TensorFlow device (/job:localhost/replica:0/task:0/device:GPU:0 with 0 MB memory) -> physical PluggableDevice (device: 0, name: METAL, pci bus id: <undefined>)\n",
      "2023-09-13 21:32:45.500417: W tensorflow/core/platform/profile_utils/cpu_utils.cc:128] Failed to get CPU frequency: 0 Hz\n",
      "2023-09-13 21:32:45.651416: I tensorflow/core/grappler/optimizers/custom_graph_optimizer_registry.cc:113] Plugin optimizer for device_type GPU is enabled.\n",
      "2023-09-13 21:32:45.924289: I tensorflow/core/grappler/optimizers/custom_graph_optimizer_registry.cc:113] Plugin optimizer for device_type GPU is enabled.\n"
     ]
    },
    {
     "name": "stdout",
     "output_type": "stream",
     "text": [
      "7/7 [==============================] - 0s 2ms/step\n",
      "7/7 [==============================] - 0s 2ms/step\n"
     ]
    },
    {
     "name": "stderr",
     "output_type": "stream",
     "text": [
      "2023-09-13 21:32:47.041739: I tensorflow/core/grappler/optimizers/custom_graph_optimizer_registry.cc:113] Plugin optimizer for device_type GPU is enabled.\n"
     ]
    },
    {
     "name": "stdout",
     "output_type": "stream",
     "text": [
      "After 39 epochs out of 300\n",
      "loss of fold 0: 0.452462\n",
      "accuracy of fold 0: 0.815000\n",
      "Type 1 error ratio of fold 0: 0.045000\n",
      "\n",
      "Fold 1\n"
     ]
    },
    {
     "name": "stderr",
     "output_type": "stream",
     "text": [
      "2023-09-13 21:32:47.274181: I tensorflow/core/grappler/optimizers/custom_graph_optimizer_registry.cc:113] Plugin optimizer for device_type GPU is enabled.\n",
      "2023-09-13 21:32:47.500482: I tensorflow/core/grappler/optimizers/custom_graph_optimizer_registry.cc:113] Plugin optimizer for device_type GPU is enabled.\n"
     ]
    },
    {
     "name": "stdout",
     "output_type": "stream",
     "text": [
      "7/7 [==============================] - 0s 3ms/step\n",
      "7/7 [==============================] - 0s 1ms/step\n"
     ]
    },
    {
     "name": "stderr",
     "output_type": "stream",
     "text": [
      "2023-09-13 21:32:48.307624: I tensorflow/core/grappler/optimizers/custom_graph_optimizer_registry.cc:113] Plugin optimizer for device_type GPU is enabled.\n"
     ]
    },
    {
     "name": "stdout",
     "output_type": "stream",
     "text": [
      "After 27 epochs out of 300\n",
      "loss of fold 1: 0.614428\n",
      "accuracy of fold 1: 0.775000\n",
      "Type 1 error ratio of fold 1: 0.050000\n",
      "\n",
      "Fold 2\n"
     ]
    },
    {
     "name": "stderr",
     "output_type": "stream",
     "text": [
      "2023-09-13 21:32:48.517920: I tensorflow/core/grappler/optimizers/custom_graph_optimizer_registry.cc:113] Plugin optimizer for device_type GPU is enabled.\n",
      "2023-09-13 21:32:48.743251: I tensorflow/core/grappler/optimizers/custom_graph_optimizer_registry.cc:113] Plugin optimizer for device_type GPU is enabled.\n"
     ]
    },
    {
     "name": "stdout",
     "output_type": "stream",
     "text": [
      "7/7 [==============================] - 0s 3ms/step\n",
      "7/7 [==============================] - 0s 2ms/step\n"
     ]
    },
    {
     "name": "stderr",
     "output_type": "stream",
     "text": [
      "2023-09-13 21:32:49.539368: I tensorflow/core/grappler/optimizers/custom_graph_optimizer_registry.cc:113] Plugin optimizer for device_type GPU is enabled.\n"
     ]
    },
    {
     "name": "stdout",
     "output_type": "stream",
     "text": [
      "After 26 epochs out of 300\n",
      "loss of fold 2: 0.612346\n",
      "accuracy of fold 2: 0.785000\n",
      "Type 1 error ratio of fold 2: 0.045000\n",
      "\n",
      "Fold 3\n"
     ]
    },
    {
     "name": "stderr",
     "output_type": "stream",
     "text": [
      "2023-09-13 21:32:49.888413: I tensorflow/core/grappler/optimizers/custom_graph_optimizer_registry.cc:113] Plugin optimizer for device_type GPU is enabled.\n",
      "2023-09-13 21:32:50.105604: I tensorflow/core/grappler/optimizers/custom_graph_optimizer_registry.cc:113] Plugin optimizer for device_type GPU is enabled.\n"
     ]
    },
    {
     "name": "stdout",
     "output_type": "stream",
     "text": [
      "7/7 [==============================] - 0s 4ms/step\n",
      "7/7 [==============================] - 0s 2ms/step\n"
     ]
    },
    {
     "name": "stderr",
     "output_type": "stream",
     "text": [
      "2023-09-13 21:32:51.739145: I tensorflow/core/grappler/optimizers/custom_graph_optimizer_registry.cc:113] Plugin optimizer for device_type GPU is enabled.\n"
     ]
    },
    {
     "name": "stdout",
     "output_type": "stream",
     "text": [
      "After 59 epochs out of 300\n",
      "loss of fold 3: 0.437391\n",
      "accuracy of fold 3: 0.845000\n",
      "Type 1 error ratio of fold 3: 0.055000\n",
      "\n",
      "Fold 4\n"
     ]
    },
    {
     "name": "stderr",
     "output_type": "stream",
     "text": [
      "2023-09-13 21:32:51.959747: I tensorflow/core/grappler/optimizers/custom_graph_optimizer_registry.cc:113] Plugin optimizer for device_type GPU is enabled.\n",
      "2023-09-13 21:32:52.195244: I tensorflow/core/grappler/optimizers/custom_graph_optimizer_registry.cc:113] Plugin optimizer for device_type GPU is enabled.\n"
     ]
    },
    {
     "name": "stdout",
     "output_type": "stream",
     "text": [
      "7/7 [==============================] - 0s 3ms/step\n",
      "7/7 [==============================] - 0s 2ms/step\n",
      "After 29 epochs out of 300\n",
      "loss of fold 4: 0.516693\n",
      "accuracy of fold 4: 0.800000\n",
      "Type 1 error ratio of fold 4: 0.065000\n",
      "\n",
      "Mean accuracy: 0.8040000081062317\n",
      "Mean type 1 error: 0.052000000000000005\n",
      "Mean ROC AUC score: 0.709531460097945\n",
      "Neural network with 20 hidden neurons beat Welch on ROC AUC\n",
      "CPU times: user 6.74 s, sys: 1.47 s, total: 8.22 s\n",
      "Wall time: 7.72 s\n"
     ]
    },
    {
     "name": "stderr",
     "output_type": "stream",
     "text": [
      "2023-09-13 21:32:53.050875: I tensorflow/core/grappler/optimizers/custom_graph_optimizer_registry.cc:113] Plugin optimizer for device_type GPU is enabled.\n"
     ]
    }
   ],
   "source": [
    "%%time\n",
    "inputs = feature_dataframe.to_numpy(dtype=float)\n",
    "targets = target_series.to_numpy(dtype=float)\n",
    "max_epochs = 300\n",
    "hidden_size = 20\n",
    "batch_size = 512\n",
    "nn_scores = []\n",
    "type_1_errors = []\n",
    "accuracies = []\n",
    "roc_scores = []\n",
    "for fold, content in enumerate(kfold.split(inputs,targets)):\n",
    "    train, test = content\n",
    "    print(\"Fold\", fold)\n",
    "\n",
    "    model = models.Sequential()\n",
    "    model.add(layers.Dense(hidden_size, activation='relu',input_shape=(feature_dataframe.shape[1],)))\n",
    "    model.add(layers.Dense(1, activation='sigmoid'))\n",
    "    model.compile(optimizer='adam',\n",
    "                  loss='binary_crossentropy',\n",
    "                  metrics=['accuracy'])\n",
    "\n",
    "    earlystopping = tf.keras.callbacks.EarlyStopping(monitor='accuracy', patience=5)\n",
    "    history = model.fit(inputs[train], targets[train],\n",
    "                    epochs=max_epochs,\n",
    "                    batch_size=batch_size,\n",
    "                    validation_split=0.2,\n",
    "                    callbacks=[earlystopping],\n",
    "                    verbose=0)\n",
    "    scores = model.evaluate(inputs[test], targets[test], verbose=0)\n",
    "    predictions = model.predict(inputs[test])[:,0] >= 0.5 # Predict 1 if the probability is >= 0.5\n",
    "    type_1_error = type_1_error_ratio(targets[test], predictions)\n",
    "    prediction_probabilies = model.predict(inputs[test])[:,0]\n",
    "    roc_score = sklearn.metrics.roc_auc_score(targets[test], prediction_probabilies)\n",
    "    print(\"After %i epochs out of %i\" % (len(history.history['accuracy']), max_epochs))\n",
    "    print(\"%s of fold %i: %f\" % (model.metrics_names[0], fold, scores[0]))\n",
    "    print(\"%s of fold %i: %f\" % (model.metrics_names[1], fold, scores[1]))\n",
    "    print(\"Type 1 error ratio of fold %i: %f\" % (fold, type_1_error))\n",
    "    print()\n",
    "    accuracies.append(scores[1])\n",
    "    type_1_errors.append(type_1_error)\n",
    "    roc_scores.append(roc_score)\n",
    "nn_scores = {\n",
    "    'test_accuracy': numpy.array(accuracies),\n",
    "    'test_type_1_error_ratio': numpy.array(type_1_errors),\n",
    "    'test_roc_auc': numpy.array(roc_scores)\n",
    "}\n",
    "display_awards(nn_scores, f\"Neural network with {hidden_size} hidden neurons\")"
   ]
  },
  {
   "cell_type": "markdown",
   "id": "b972807d",
   "metadata": {},
   "source": [
    "Maybe I should do a calibrated version of the neural network? "
   ]
  },
  {
   "cell_type": "markdown",
   "id": "2b7e3cd7",
   "metadata": {},
   "source": [
    "# Linear polyterms\n",
    "\n",
    "No, you didn't see this. No good can possibly come of it."
   ]
  },
  {
   "cell_type": "code",
   "execution_count": 34,
   "id": "8d610323",
   "metadata": {},
   "outputs": [],
   "source": [
    "import sklearn.pipeline\n",
    "import sklearn.preprocessing\n",
    "\n",
    "pipeline = sklearn.pipeline.make_pipeline(\n",
    "    sklearn.preprocessing.PolynomialFeatures(include_bias=False),\n",
    "    sklearn.linear_model.LogisticRegression(max_iter=100000, C=1e12)\n",
    ")"
   ]
  },
  {
   "cell_type": "code",
   "execution_count": 35,
   "id": "2ad39171",
   "metadata": {},
   "outputs": [
    {
     "name": "stdout",
     "output_type": "stream",
     "text": [
      "Mean accuracy: 0.827\n",
      "Mean type 1 error: 0.043\n",
      "Mean ROC AUC score: 0.8425564658441372\n",
      "LinearPoly beat the Welch t-test while maintaining a low type 1 error ratio\n",
      "LinearPoly beat Welch on ROC AUC\n",
      "CPU times: user 1min 15s, sys: 580 ms, total: 1min 16s\n",
      "Wall time: 10.1 s\n"
     ]
    }
   ],
   "source": [
    "%%time\n",
    "logreg_poly_scores = measure_sklearn(pipeline, 'LinearPoly', synthesised_columns)"
   ]
  },
  {
   "cell_type": "code",
   "execution_count": 36,
   "id": "b1445072",
   "metadata": {},
   "outputs": [
    {
     "name": "stdout",
     "output_type": "stream",
     "text": [
      "Mean accuracy: 0.8140000000000001\n",
      "Mean type 1 error: 0.025\n",
      "Mean ROC AUC score: 0.8266277077920913\n",
      "Calibrated LinearPoly beat the Welch t-test while maintaining a low type 1 error ratio\n",
      "Calibrated LinearPoly beat Welch on ROC AUC\n",
      "CPU times: user 1min 4s, sys: 691 ms, total: 1min 4s\n",
      "Wall time: 8.62 s\n"
     ]
    }
   ],
   "source": [
    "%%time\n",
    "calibrated_logreg_poly = measure_sklearn(Calibrated(pipeline,welch_type_1_error_ratio,\n",
    "                                                           welch_accuracy),\n",
    "                                         'Calibrated LinearPoly', synthesised_columns)"
   ]
  },
  {
   "cell_type": "markdown",
   "id": "55577ef0",
   "metadata": {},
   "source": [
    "### Colouring the coefficients of the logistic regression\n",
    "\n",
    "Particularly when we have a large number of experiments, the colours converge \n",
    "to some stunningly beautiful patterns. The "
   ]
  },
  {
   "cell_type": "code",
   "execution_count": 37,
   "id": "db4daad6",
   "metadata": {},
   "outputs": [
    {
     "name": "stdout",
     "output_type": "stream",
     "text": [
      "CPU times: user 10.1 s, sys: 165 ms, total: 10.3 s\n",
      "Wall time: 1.38 s\n"
     ]
    },
    {
     "data": {
      "text/html": [
       "<style>#sk-container-id-1 {color: black;background-color: white;}#sk-container-id-1 pre{padding: 0;}#sk-container-id-1 div.sk-toggleable {background-color: white;}#sk-container-id-1 label.sk-toggleable__label {cursor: pointer;display: block;width: 100%;margin-bottom: 0;padding: 0.3em;box-sizing: border-box;text-align: center;}#sk-container-id-1 label.sk-toggleable__label-arrow:before {content: \"▸\";float: left;margin-right: 0.25em;color: #696969;}#sk-container-id-1 label.sk-toggleable__label-arrow:hover:before {color: black;}#sk-container-id-1 div.sk-estimator:hover label.sk-toggleable__label-arrow:before {color: black;}#sk-container-id-1 div.sk-toggleable__content {max-height: 0;max-width: 0;overflow: hidden;text-align: left;background-color: #f0f8ff;}#sk-container-id-1 div.sk-toggleable__content pre {margin: 0.2em;color: black;border-radius: 0.25em;background-color: #f0f8ff;}#sk-container-id-1 input.sk-toggleable__control:checked~div.sk-toggleable__content {max-height: 200px;max-width: 100%;overflow: auto;}#sk-container-id-1 input.sk-toggleable__control:checked~label.sk-toggleable__label-arrow:before {content: \"▾\";}#sk-container-id-1 div.sk-estimator input.sk-toggleable__control:checked~label.sk-toggleable__label {background-color: #d4ebff;}#sk-container-id-1 div.sk-label input.sk-toggleable__control:checked~label.sk-toggleable__label {background-color: #d4ebff;}#sk-container-id-1 input.sk-hidden--visually {border: 0;clip: rect(1px 1px 1px 1px);clip: rect(1px, 1px, 1px, 1px);height: 1px;margin: -1px;overflow: hidden;padding: 0;position: absolute;width: 1px;}#sk-container-id-1 div.sk-estimator {font-family: monospace;background-color: #f0f8ff;border: 1px dotted black;border-radius: 0.25em;box-sizing: border-box;margin-bottom: 0.5em;}#sk-container-id-1 div.sk-estimator:hover {background-color: #d4ebff;}#sk-container-id-1 div.sk-parallel-item::after {content: \"\";width: 100%;border-bottom: 1px solid gray;flex-grow: 1;}#sk-container-id-1 div.sk-label:hover label.sk-toggleable__label {background-color: #d4ebff;}#sk-container-id-1 div.sk-serial::before {content: \"\";position: absolute;border-left: 1px solid gray;box-sizing: border-box;top: 0;bottom: 0;left: 50%;z-index: 0;}#sk-container-id-1 div.sk-serial {display: flex;flex-direction: column;align-items: center;background-color: white;padding-right: 0.2em;padding-left: 0.2em;position: relative;}#sk-container-id-1 div.sk-item {position: relative;z-index: 1;}#sk-container-id-1 div.sk-parallel {display: flex;align-items: stretch;justify-content: center;background-color: white;position: relative;}#sk-container-id-1 div.sk-item::before, #sk-container-id-1 div.sk-parallel-item::before {content: \"\";position: absolute;border-left: 1px solid gray;box-sizing: border-box;top: 0;bottom: 0;left: 50%;z-index: -1;}#sk-container-id-1 div.sk-parallel-item {display: flex;flex-direction: column;z-index: 1;position: relative;background-color: white;}#sk-container-id-1 div.sk-parallel-item:first-child::after {align-self: flex-end;width: 50%;}#sk-container-id-1 div.sk-parallel-item:last-child::after {align-self: flex-start;width: 50%;}#sk-container-id-1 div.sk-parallel-item:only-child::after {width: 0;}#sk-container-id-1 div.sk-dashed-wrapped {border: 1px dashed gray;margin: 0 0.4em 0.5em 0.4em;box-sizing: border-box;padding-bottom: 0.4em;background-color: white;}#sk-container-id-1 div.sk-label label {font-family: monospace;font-weight: bold;display: inline-block;line-height: 1.2em;}#sk-container-id-1 div.sk-label-container {text-align: center;}#sk-container-id-1 div.sk-container {/* jupyter's `normalize.less` sets `[hidden] { display: none; }` but bootstrap.min.css set `[hidden] { display: none !important; }` so we also need the `!important` here to be able to override the default hidden behavior on the sphinx rendered scikit-learn.org. See: https://github.com/scikit-learn/scikit-learn/issues/21755 */display: inline-block !important;position: relative;}#sk-container-id-1 div.sk-text-repr-fallback {display: none;}</style><div id=\"sk-container-id-1\" class=\"sk-top-container\"><div class=\"sk-text-repr-fallback\"><pre>Pipeline(steps=[(&#x27;polynomialfeatures&#x27;, PolynomialFeatures(include_bias=False)),\n",
       "                (&#x27;logisticregression&#x27;,\n",
       "                 LogisticRegression(C=1000000000000.0, max_iter=100000))])</pre><b>In a Jupyter environment, please rerun this cell to show the HTML representation or trust the notebook. <br />On GitHub, the HTML representation is unable to render, please try loading this page with nbviewer.org.</b></div><div class=\"sk-container\" hidden><div class=\"sk-item sk-dashed-wrapped\"><div class=\"sk-label-container\"><div class=\"sk-label sk-toggleable\"><input class=\"sk-toggleable__control sk-hidden--visually\" id=\"sk-estimator-id-1\" type=\"checkbox\" ><label for=\"sk-estimator-id-1\" class=\"sk-toggleable__label sk-toggleable__label-arrow\">Pipeline</label><div class=\"sk-toggleable__content\"><pre>Pipeline(steps=[(&#x27;polynomialfeatures&#x27;, PolynomialFeatures(include_bias=False)),\n",
       "                (&#x27;logisticregression&#x27;,\n",
       "                 LogisticRegression(C=1000000000000.0, max_iter=100000))])</pre></div></div></div><div class=\"sk-serial\"><div class=\"sk-item\"><div class=\"sk-estimator sk-toggleable\"><input class=\"sk-toggleable__control sk-hidden--visually\" id=\"sk-estimator-id-2\" type=\"checkbox\" ><label for=\"sk-estimator-id-2\" class=\"sk-toggleable__label sk-toggleable__label-arrow\">PolynomialFeatures</label><div class=\"sk-toggleable__content\"><pre>PolynomialFeatures(include_bias=False)</pre></div></div></div><div class=\"sk-item\"><div class=\"sk-estimator sk-toggleable\"><input class=\"sk-toggleable__control sk-hidden--visually\" id=\"sk-estimator-id-3\" type=\"checkbox\" ><label for=\"sk-estimator-id-3\" class=\"sk-toggleable__label sk-toggleable__label-arrow\">LogisticRegression</label><div class=\"sk-toggleable__content\"><pre>LogisticRegression(C=1000000000000.0, max_iter=100000)</pre></div></div></div></div></div></div></div>"
      ],
      "text/plain": [
       "Pipeline(steps=[('polynomialfeatures', PolynomialFeatures(include_bias=False)),\n",
       "                ('logisticregression',\n",
       "                 LogisticRegression(C=1000000000000.0, max_iter=100000))])"
      ]
     },
     "execution_count": 37,
     "metadata": {},
     "output_type": "execute_result"
    }
   ],
   "source": [
    "%%time\n",
    "pipeline.fit(feature_dataframe[synthesised_columns], target_series)"
   ]
  },
  {
   "cell_type": "code",
   "execution_count": 38,
   "id": "38d04f78",
   "metadata": {},
   "outputs": [
    {
     "data": {
      "text/plain": [
       "array([-0.1464881])"
      ]
     },
     "execution_count": 38,
     "metadata": {},
     "output_type": "execute_result"
    }
   ],
   "source": [
    "pipeline.named_steps['logisticregression'].intercept_"
   ]
  },
  {
   "cell_type": "code",
   "execution_count": 39,
   "id": "ccca7911",
   "metadata": {},
   "outputs": [
    {
     "data": {
      "text/plain": [
       "t_c0x0          -0.456760\n",
       "t_c1x0          -1.696876\n",
       "t_c2x0           3.390002\n",
       "t_c3x0          -1.112604\n",
       "t_c0x1          -0.178557\n",
       "                   ...   \n",
       "t_c1x2 t_c2x2    0.198491\n",
       "t_c1x2 t_c3x2    0.317315\n",
       "t_c2x2^2        -0.163905\n",
       "t_c2x2 t_c3x2   -0.327167\n",
       "t_c3x2^2         0.259880\n",
       "Length: 90, dtype: float64"
      ]
     },
     "execution_count": 39,
     "metadata": {},
     "output_type": "execute_result"
    }
   ],
   "source": [
    "strengths = pandas.Series(index=pipeline.named_steps['polynomialfeatures'].get_feature_names_out(),\n",
    "                          data=pipeline.named_steps['logisticregression'].coef_[0])\n",
    "strengths"
   ]
  },
  {
   "cell_type": "markdown",
   "id": "ed400955",
   "metadata": {},
   "source": [
    "#### Cross-term stair steps\n",
    "\n",
    "With enough data we get a strong diagonal, with echoes across the others."
   ]
  },
  {
   "cell_type": "code",
   "execution_count": 40,
   "id": "b8d84a17",
   "metadata": {},
   "outputs": [
    {
     "data": {
      "text/plain": [
       "<AxesSubplot: xlabel='v2', ylabel='v1'>"
      ]
     },
     "execution_count": 40,
     "metadata": {},
     "output_type": "execute_result"
    },
    {
     "data": {
      "image/png": "[encoded data removed]",
      "text/plain": [
       "<Figure size 640x480 with 2 Axes>"
      ]
     },
     "metadata": {},
     "output_type": "display_data"
    }
   ],
   "source": [
    "cross_term_strengths = strengths[strengths.index.str.contains(' ')\n",
    "                                ].reset_index().rename(columns={'index': 'vars', 0: 'strength'})\n",
    "cross_term_strengths['var_split'] = cross_term_strengths.vars.str.split(' ')\n",
    "cross_term_strengths['v1'] = cross_term_strengths.var_split.map(lambda x: x[0])\n",
    "cross_term_strengths['v2'] = cross_term_strengths.var_split.map(lambda x: x[1])\n",
    "cross_term_strengths.drop('var_split', axis=1, inplace=True)\n",
    "cross_term_strengths.drop('vars', axis=1, inplace=True)\n",
    "cross_term_table = cross_term_strengths.pivot_table(\n",
    "    index='v1',\n",
    "    columns='v2',\n",
    "    values='strength',\n",
    "    #fill_value=0\n",
    ")\n",
    "import seaborn\n",
    "seaborn.heatmap(cross_term_table)"
   ]
  },
  {
   "cell_type": "markdown",
   "id": "9c995caf",
   "metadata": {},
   "source": [
    "#### Square terms\n",
    "\n",
    "These are the least interesting. Even with a lot of data they don't look all that interesting."
   ]
  },
  {
   "cell_type": "code",
   "execution_count": 41,
   "id": "5149bdf5",
   "metadata": {},
   "outputs": [
    {
     "data": {
      "text/plain": [
       "<AxesSubplot: xlabel='experimentvar', ylabel='controlvar'>"
      ]
     },
     "execution_count": 41,
     "metadata": {},
     "output_type": "execute_result"
    },
    {
     "data": {
      "image/png": "[encoded data removed]",
      "text/plain": [
       "<Figure size 640x480 with 2 Axes>"
      ]
     },
     "metadata": {},
     "output_type": "display_data"
    }
   ],
   "source": [
    "square_term_strengths = strengths[strengths.index.str.contains('^2', regex=False)\n",
    "                                 ].reset_index().rename(columns={'index': 'varname',\n",
    "                                                                0: 'strength'})\n",
    "square_term_strengths['controlvar'] = square_term_strengths.varname.str.extract('t_c([0-9]+).*')\n",
    "square_term_strengths['experimentvar'] = square_term_strengths.varname.str.extract('x([0-9]+)')\n",
    "square_term_table = square_term_strengths.pivot_table(\n",
    "    index='controlvar',\n",
    "    columns='experimentvar',\n",
    "    values='strength'\n",
    ")\n",
    "seaborn.heatmap(square_term_table, annot=True)"
   ]
  },
  {
   "cell_type": "markdown",
   "id": "2405eb5b",
   "metadata": {},
   "source": [
    "#### Monoterms\n",
    "\n",
    "These are the most interesting. There are always strong bars around the middles (of both the control and\n",
    "experiments), and a pleasing symmetry to them as well."
   ]
  },
  {
   "cell_type": "code",
   "execution_count": 42,
   "id": "f2cc670f",
   "metadata": {},
   "outputs": [
    {
     "data": {
      "text/plain": [
       "<AxesSubplot: xlabel='experimentvar', ylabel='controlvar'>"
      ]
     },
     "execution_count": 42,
     "metadata": {},
     "output_type": "execute_result"
    },
    {
     "data": {
      "image/png": "[encoded data removed]",
      "text/plain": [
       "<Figure size 640x480 with 2 Axes>"
      ]
     },
     "metadata": {},
     "output_type": "display_data"
    }
   ],
   "source": [
    "monoterm_strengths = strengths[~strengths.index.str.contains('^2', regex=False) & ~strengths.index.str.contains(' ')\n",
    "                              ].reset_index().rename(columns={'index': 'varname',\n",
    "                                                                0: 'strength'})\n",
    "monoterm_strengths['controlvar'] = monoterm_strengths.varname.str.extract('t_c([0-9]+).*')\n",
    "monoterm_strengths['experimentvar'] = monoterm_strengths.varname.str.extract('x([0-9]+)')\n",
    "monoterm_table = monoterm_strengths.pivot_table(\n",
    "    index='controlvar',\n",
    "    columns='experimentvar',\n",
    "    values='strength'\n",
    ")\n",
    "seaborn.heatmap(monoterm_table, annot=True)"
   ]
  },
  {
   "cell_type": "code",
   "execution_count": 43,
   "id": "8c6e435a",
   "metadata": {},
   "outputs": [
    {
     "data": {
      "text/plain": [
       "<AxesSubplot: xlabel='strength', ylabel='Count'>"
      ]
     },
     "execution_count": 43,
     "metadata": {},
     "output_type": "execute_result"
    },
    {
     "data": {
      "image/png": "[encoded data removed]",
      "text/plain": [
       "<Figure size 640x480 with 1 Axes>"
      ]
     },
     "metadata": {},
     "output_type": "display_data"
    }
   ],
   "source": [
    "import matplotlib.pyplot\n",
    "fig, ax = matplotlib.pyplot.subplots()\n",
    "seaborn.histplot(monoterm_strengths.strength, ax=ax, kde=True, label=\"Mono terms\")\n",
    "seaborn.histplot(square_term_strengths.strength, ax=ax, kde=True, label=\"Square terms\")\n",
    "seaborn.histplot(cross_term_strengths.strength, ax=ax, kde=True, label=\"Cross terms\")\n",
    "\n",
    "#monoterm_strengths.plot.hist(ax=ax)"
   ]
  },
  {
   "cell_type": "code",
   "execution_count": null,
   "id": "584c4cc0",
   "metadata": {},
   "outputs": [],
   "source": []
  }
 ],
 "metadata": {
  "kernelspec": {
   "display_name": "Python 3 (ipykernel)",
   "language": "python",
   "name": "python3"
  },
  "language_info": {
   "codemirror_mode": {
    "name": "ipython",
    "version": 3
   },
   "file_extension": ".py",
   "mimetype": "text/x-python",
   "name": "python",
   "nbconvert_exporter": "python",
   "pygments_lexer": "ipython3",
   "version": "3.10.12"
  }
 },
 "nbformat": 4,
 "nbformat_minor": 5
}
