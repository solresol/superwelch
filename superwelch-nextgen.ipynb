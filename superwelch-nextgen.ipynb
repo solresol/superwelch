{
 "cells": [
  {
   "cell_type": "markdown",
   "id": "e4eaacb7",
   "metadata": {},
   "source": [
    "# Can we beat Welch's t-test?\n",
    "\n",
    "The current version of this script is super-stupid. But to do any interesting research, you have to plant\n",
    "a few small acorns, and this is the smallest of acorns.\n",
    "\n",
    "Suppose you have to evaluate NUMBER_OF_EXPERIMENTS very small experiments. By a weird\n",
    "coincidence, they all have the same number of participants. There are CONTROL_GROUP_SIZE patients\n",
    "getting a placebo, and EXPERIMENT_GROUP_SIZE getting a drug.\n",
    "\n",
    "Unfortunately approximately PROPORTION_OF_EXPERIMENTS_THAT_DO_NOTHING of those drugs actually have no effect either.\n",
    "\n",
    "You want to create a classifier to determine whether or not the experimental drug worked.\n",
    "\n",
    "Also, amazingly, the control group and the experimental group metrics are normally distributed. \n",
    "\n",
    "You don't know the population mean or standard deviation: you don't know it for the control group \n",
    "and you don't know it for the experimental group.\n",
    "\n",
    "You do know that the control group's standard deviation is somewhere between \n",
    "CONTROL_POPULATION_STDDEV_LOW and CONTROL_POPULATION_STDDEV_HIGH. You know this\n",
    "because you know something about your field, it would be impossible for the standard deviation to be\n",
    "outside of these bounds.\n",
    "\n",
    "Obviously, the experiments where the drug is useless the experimental data will have the same mean and standard deviation as the controls.\n",
    "\n",
    "In the experiments where the drug is useful, they differ. You don't know how much, but you can put some bounds\n",
    "on it:\n",
    "\n",
    "- the distribution of data from a successful experimental will have a mean within EXPERIMENTAL_MEAN_RANGE of\n",
    "  the control group's mean\n",
    "  \n",
    "- the standard deviation will be between EXPERIMENTAL_STDDEV_LOW and EXPERIMENTAL_STDDEV_HIGH\n",
    "\n",
    "-------\n",
    "\n",
    "Being a well-trained statistician with years of experience, you use Welch's t-test.\n",
    "\n",
    "Your offsider is a clueless data scientist whose sole training consisted of reading the sklearn documentation.\n",
    "\n",
    "Who wins?"
   ]
  },
  {
   "cell_type": "code",
   "execution_count": 1,
   "id": "cee3f87f",
   "metadata": {},
   "outputs": [],
   "source": [
    "CONTROL_GROUP_SIZE=5\n",
    "EXPERIMENT_GROUP_SIZE=6\n",
    "PROPORTION_OF_EXPERIMENTS_THAT_DO_NOTHING=0.66\n",
    "NUMBER_OF_EXPERIMENTS=1000000\n",
    "\n",
    "CONTROL_POPULATION_STDDEV_LOW=1\n",
    "CONTROL_POPULATION_STDDEV_HIGH=5\n",
    "\n",
    "EXPERIMENTAL_MEAN_RANGE=10\n",
    "EXPERIMENTAL_STDDEV_LOW=1\n",
    "EXPERIMENTAL_STDDEV_HIGH=5"
   ]
  },
  {
   "cell_type": "code",
   "execution_count": 2,
   "id": "fffd4c5c",
   "metadata": {},
   "outputs": [],
   "source": [
    "import scipy\n",
    "import scipy.stats\n",
    "import collections\n",
    "import pandas\n",
    "import numpy\n",
    "import sklearn.model_selection\n",
    "import sklearn.svm\n",
    "import sklearn.dummy\n",
    "import sklearn.metrics\n",
    "import sklearn.tree\n",
    "import sklearn.ensemble\n",
    "import sklearn.neighbors"
   ]
  },
  {
   "cell_type": "code",
   "execution_count": 3,
   "id": "500fdf83",
   "metadata": {},
   "outputs": [],
   "source": [
    "Experiment = collections.namedtuple(\"Experiment\",\n",
    "                                    [\"ControlLoc\", \"ControlScale\", \"ControlValues\",\n",
    "                                     \"ObservedControlMean\", \"ObservedControlStddev\",\n",
    "                                   \"ExperimentLoc\", \"ExperimentScale\", \"ExperimentValues\", \n",
    "                                   \"ShouldShowResult\"])"
   ]
  },
  {
   "cell_type": "code",
   "execution_count": 4,
   "id": "1fecb8ee",
   "metadata": {},
   "outputs": [],
   "source": [
    "def generate_experiment():\n",
    "    null_experiment = scipy.stats.uniform.rvs() <= PROPORTION_OF_EXPERIMENTS_THAT_DO_NOTHING\n",
    "    # wlog...\n",
    "    control_loc = 0\n",
    "    control_scale = scipy.stats.uniform.rvs(loc=CONTROL_POPULATION_STDDEV_LOW,\n",
    "                                            scale=CONTROL_POPULATION_STDDEV_HIGH-CONTROL_POPULATION_STDDEV_LOW)\n",
    "    if null_experiment:\n",
    "        experiment_loc = control_loc\n",
    "        experiment_scale = control_scale\n",
    "    else:\n",
    "        experiment_loc = scipy.stats.uniform.rvs(loc=0, scale=EXPERIMENTAL_MEAN_RANGE)\n",
    "        experiment_scale = scipy.stats.uniform.rvs(loc=EXPERIMENTAL_STDDEV_LOW, \n",
    "                                                   scale=EXPERIMENTAL_STDDEV_HIGH-EXPERIMENTAL_STDDEV_LOW)\n",
    "    control_values = numpy.sort(scipy.stats.norm.rvs(loc=control_loc, scale=control_scale, size=CONTROL_GROUP_SIZE))\n",
    "    experiment_values = numpy.sort(scipy.stats.norm.rvs(loc=experiment_loc, scale=experiment_scale, size=EXPERIMENT_GROUP_SIZE))\n",
    "    return Experiment(ControlLoc=control_loc, \n",
    "                      ControlScale=control_scale,\n",
    "                     ControlValues=control_values,\n",
    "                      ObservedControlMean=control_values.mean(),\n",
    "                      ObservedControlStddev=control_values.std(),\n",
    "                     ExperimentLoc=experiment_loc,\n",
    "                     ExperimentScale=experiment_scale,\n",
    "                     ExperimentValues=experiment_values,\n",
    "                     ShouldShowResult=not(null_experiment))\n",
    "\n",
    "def generate_experiments(number_of_experiments):\n",
    "    return [generate_experiment() for n in range(number_of_experiments)]"
   ]
  },
  {
   "cell_type": "code",
   "execution_count": 5,
   "id": "81a189f6",
   "metadata": {},
   "outputs": [],
   "source": [
    "def create_feature_dataframe(experiments):\n",
    "    records = []\n",
    "    for experiment in experiments:\n",
    "        record = {}\n",
    "        mean = experiment.ObservedControlMean\n",
    "        s = experiment.ObservedControlStddev\n",
    "        # We will need to shift everything down by mean, and divide by s\n",
    "        for i in range(CONTROL_GROUP_SIZE):\n",
    "            record[f\"c{i}\"] = (experiment.ControlValues[i] - mean) / s\n",
    "        for i in range(EXPERIMENT_GROUP_SIZE):\n",
    "            record[f\"x{i}\"] = (experiment.ExperimentValues[i] - mean) / s\n",
    "        records.append(record)\n",
    "    raw_data_dataframe = pandas.DataFrame.from_records(records)\n",
    "    for i in range(EXPERIMENT_GROUP_SIZE):\n",
    "        for j in range(CONTROL_GROUP_SIZE):\n",
    "            raw_data_dataframe[f\"t_c{j}x{i}\"] = raw_data_dataframe[f\"c{j}\"] - raw_data_dataframe[f\"x{i}\"]\n",
    "    return raw_data_dataframe\n",
    "\n",
    "def create_target_series(experiments):\n",
    "    return pandas.Series([x.ShouldShowResult for x in experiments])"
   ]
  },
  {
   "cell_type": "code",
   "execution_count": 6,
   "id": "259b4612",
   "metadata": {},
   "outputs": [
    {
     "data": {
      "text/html": [
       "<div>\n",
       "<style scoped>\n",
       "    .dataframe tbody tr th:only-of-type {\n",
       "        vertical-align: middle;\n",
       "    }\n",
       "\n",
       "    .dataframe tbody tr th {\n",
       "        vertical-align: top;\n",
       "    }\n",
       "\n",
       "    .dataframe thead th {\n",
       "        text-align: right;\n",
       "    }\n",
       "</style>\n",
       "<table border=\"1\" class=\"dataframe\">\n",
       "  <thead>\n",
       "    <tr style=\"text-align: right;\">\n",
       "      <th></th>\n",
       "      <th>c0</th>\n",
       "      <th>c1</th>\n",
       "      <th>c2</th>\n",
       "      <th>c3</th>\n",
       "      <th>c4</th>\n",
       "      <th>x0</th>\n",
       "      <th>x1</th>\n",
       "      <th>x2</th>\n",
       "      <th>x3</th>\n",
       "      <th>x4</th>\n",
       "      <th>...</th>\n",
       "      <th>t_c0x4</th>\n",
       "      <th>t_c1x4</th>\n",
       "      <th>t_c2x4</th>\n",
       "      <th>t_c3x4</th>\n",
       "      <th>t_c4x4</th>\n",
       "      <th>t_c0x5</th>\n",
       "      <th>t_c1x5</th>\n",
       "      <th>t_c2x5</th>\n",
       "      <th>t_c3x5</th>\n",
       "      <th>t_c4x5</th>\n",
       "    </tr>\n",
       "  </thead>\n",
       "  <tbody>\n",
       "    <tr>\n",
       "      <th>0</th>\n",
       "      <td>-1.835985</td>\n",
       "      <td>-0.200276</td>\n",
       "      <td>0.307883</td>\n",
       "      <td>0.846737</td>\n",
       "      <td>0.881642</td>\n",
       "      <td>-0.841891</td>\n",
       "      <td>-0.395122</td>\n",
       "      <td>-0.320396</td>\n",
       "      <td>0.181357</td>\n",
       "      <td>1.253880</td>\n",
       "      <td>...</td>\n",
       "      <td>-3.089865</td>\n",
       "      <td>-1.454156</td>\n",
       "      <td>-0.945997</td>\n",
       "      <td>-0.407143</td>\n",
       "      <td>-0.372238</td>\n",
       "      <td>-3.347856</td>\n",
       "      <td>-1.712147</td>\n",
       "      <td>-1.203988</td>\n",
       "      <td>-0.665134</td>\n",
       "      <td>-0.630229</td>\n",
       "    </tr>\n",
       "    <tr>\n",
       "      <th>1</th>\n",
       "      <td>-1.564807</td>\n",
       "      <td>-0.704982</td>\n",
       "      <td>0.324560</td>\n",
       "      <td>0.803672</td>\n",
       "      <td>1.141557</td>\n",
       "      <td>-2.863791</td>\n",
       "      <td>-0.940014</td>\n",
       "      <td>-0.641714</td>\n",
       "      <td>-0.425069</td>\n",
       "      <td>0.281821</td>\n",
       "      <td>...</td>\n",
       "      <td>-1.846628</td>\n",
       "      <td>-0.986804</td>\n",
       "      <td>0.042738</td>\n",
       "      <td>0.521851</td>\n",
       "      <td>0.859736</td>\n",
       "      <td>-3.269097</td>\n",
       "      <td>-2.409273</td>\n",
       "      <td>-1.379731</td>\n",
       "      <td>-0.900619</td>\n",
       "      <td>-0.562734</td>\n",
       "    </tr>\n",
       "    <tr>\n",
       "      <th>2</th>\n",
       "      <td>-0.943765</td>\n",
       "      <td>-0.709615</td>\n",
       "      <td>-0.178897</td>\n",
       "      <td>-0.057292</td>\n",
       "      <td>1.889568</td>\n",
       "      <td>-1.858036</td>\n",
       "      <td>-0.683525</td>\n",
       "      <td>-0.592137</td>\n",
       "      <td>-0.537957</td>\n",
       "      <td>-0.215015</td>\n",
       "      <td>...</td>\n",
       "      <td>-0.728750</td>\n",
       "      <td>-0.494600</td>\n",
       "      <td>0.036118</td>\n",
       "      <td>0.157723</td>\n",
       "      <td>2.104583</td>\n",
       "      <td>-1.704149</td>\n",
       "      <td>-1.469999</td>\n",
       "      <td>-0.939281</td>\n",
       "      <td>-0.817676</td>\n",
       "      <td>1.129184</td>\n",
       "    </tr>\n",
       "    <tr>\n",
       "      <th>3</th>\n",
       "      <td>-1.326672</td>\n",
       "      <td>-0.224720</td>\n",
       "      <td>-0.121221</td>\n",
       "      <td>-0.106013</td>\n",
       "      <td>1.778626</td>\n",
       "      <td>-1.129417</td>\n",
       "      <td>-0.555363</td>\n",
       "      <td>0.028117</td>\n",
       "      <td>2.196814</td>\n",
       "      <td>2.929085</td>\n",
       "      <td>...</td>\n",
       "      <td>-4.255757</td>\n",
       "      <td>-3.153805</td>\n",
       "      <td>-3.050306</td>\n",
       "      <td>-3.035098</td>\n",
       "      <td>-1.150459</td>\n",
       "      <td>-4.854446</td>\n",
       "      <td>-3.752494</td>\n",
       "      <td>-3.648995</td>\n",
       "      <td>-3.633788</td>\n",
       "      <td>-1.749149</td>\n",
       "    </tr>\n",
       "    <tr>\n",
       "      <th>4</th>\n",
       "      <td>-1.304778</td>\n",
       "      <td>-1.106621</td>\n",
       "      <td>0.586837</td>\n",
       "      <td>0.733319</td>\n",
       "      <td>1.091243</td>\n",
       "      <td>3.440571</td>\n",
       "      <td>4.433043</td>\n",
       "      <td>4.569447</td>\n",
       "      <td>5.770855</td>\n",
       "      <td>5.816063</td>\n",
       "      <td>...</td>\n",
       "      <td>-7.120841</td>\n",
       "      <td>-6.922684</td>\n",
       "      <td>-5.229226</td>\n",
       "      <td>-5.082744</td>\n",
       "      <td>-4.724821</td>\n",
       "      <td>-10.080221</td>\n",
       "      <td>-9.882065</td>\n",
       "      <td>-8.188607</td>\n",
       "      <td>-8.042124</td>\n",
       "      <td>-7.684201</td>\n",
       "    </tr>\n",
       "    <tr>\n",
       "      <th>...</th>\n",
       "      <td>...</td>\n",
       "      <td>...</td>\n",
       "      <td>...</td>\n",
       "      <td>...</td>\n",
       "      <td>...</td>\n",
       "      <td>...</td>\n",
       "      <td>...</td>\n",
       "      <td>...</td>\n",
       "      <td>...</td>\n",
       "      <td>...</td>\n",
       "      <td>...</td>\n",
       "      <td>...</td>\n",
       "      <td>...</td>\n",
       "      <td>...</td>\n",
       "      <td>...</td>\n",
       "      <td>...</td>\n",
       "      <td>...</td>\n",
       "      <td>...</td>\n",
       "      <td>...</td>\n",
       "      <td>...</td>\n",
       "      <td>...</td>\n",
       "    </tr>\n",
       "    <tr>\n",
       "      <th>999995</th>\n",
       "      <td>-1.293000</td>\n",
       "      <td>-0.926157</td>\n",
       "      <td>0.081190</td>\n",
       "      <td>0.770370</td>\n",
       "      <td>1.367598</td>\n",
       "      <td>-1.724901</td>\n",
       "      <td>-1.452809</td>\n",
       "      <td>-0.418077</td>\n",
       "      <td>1.332108</td>\n",
       "      <td>1.706942</td>\n",
       "      <td>...</td>\n",
       "      <td>-2.999941</td>\n",
       "      <td>-2.633099</td>\n",
       "      <td>-1.625752</td>\n",
       "      <td>-0.936572</td>\n",
       "      <td>-0.339344</td>\n",
       "      <td>-3.115932</td>\n",
       "      <td>-2.749089</td>\n",
       "      <td>-1.741742</td>\n",
       "      <td>-1.052562</td>\n",
       "      <td>-0.455334</td>\n",
       "    </tr>\n",
       "    <tr>\n",
       "      <th>999996</th>\n",
       "      <td>-1.097871</td>\n",
       "      <td>-0.707429</td>\n",
       "      <td>-0.195416</td>\n",
       "      <td>0.208334</td>\n",
       "      <td>1.792382</td>\n",
       "      <td>-0.995203</td>\n",
       "      <td>-0.766171</td>\n",
       "      <td>-0.637027</td>\n",
       "      <td>-0.296637</td>\n",
       "      <td>0.335552</td>\n",
       "      <td>...</td>\n",
       "      <td>-1.433423</td>\n",
       "      <td>-1.042982</td>\n",
       "      <td>-0.530968</td>\n",
       "      <td>-0.127218</td>\n",
       "      <td>1.456829</td>\n",
       "      <td>-1.976116</td>\n",
       "      <td>-1.585675</td>\n",
       "      <td>-1.073661</td>\n",
       "      <td>-0.669911</td>\n",
       "      <td>0.914137</td>\n",
       "    </tr>\n",
       "    <tr>\n",
       "      <th>999997</th>\n",
       "      <td>-1.858147</td>\n",
       "      <td>0.132844</td>\n",
       "      <td>0.173081</td>\n",
       "      <td>0.392063</td>\n",
       "      <td>1.160160</td>\n",
       "      <td>-1.473249</td>\n",
       "      <td>-1.186487</td>\n",
       "      <td>-0.920053</td>\n",
       "      <td>-0.086424</td>\n",
       "      <td>0.631940</td>\n",
       "      <td>...</td>\n",
       "      <td>-2.490087</td>\n",
       "      <td>-0.499096</td>\n",
       "      <td>-0.458859</td>\n",
       "      <td>-0.239877</td>\n",
       "      <td>0.528220</td>\n",
       "      <td>-3.040425</td>\n",
       "      <td>-1.049434</td>\n",
       "      <td>-1.009197</td>\n",
       "      <td>-0.790215</td>\n",
       "      <td>-0.022118</td>\n",
       "    </tr>\n",
       "    <tr>\n",
       "      <th>999998</th>\n",
       "      <td>-0.889253</td>\n",
       "      <td>-0.660368</td>\n",
       "      <td>-0.488640</td>\n",
       "      <td>0.165573</td>\n",
       "      <td>1.872688</td>\n",
       "      <td>-11.329503</td>\n",
       "      <td>-6.247512</td>\n",
       "      <td>-3.637571</td>\n",
       "      <td>-2.667570</td>\n",
       "      <td>0.526810</td>\n",
       "      <td>...</td>\n",
       "      <td>-1.416063</td>\n",
       "      <td>-1.187178</td>\n",
       "      <td>-1.015450</td>\n",
       "      <td>-0.361237</td>\n",
       "      <td>1.345878</td>\n",
       "      <td>-2.851099</td>\n",
       "      <td>-2.622214</td>\n",
       "      <td>-2.450486</td>\n",
       "      <td>-1.796272</td>\n",
       "      <td>-0.089158</td>\n",
       "    </tr>\n",
       "    <tr>\n",
       "      <th>999999</th>\n",
       "      <td>-1.204680</td>\n",
       "      <td>-0.637421</td>\n",
       "      <td>-0.510250</td>\n",
       "      <td>0.936064</td>\n",
       "      <td>1.416287</td>\n",
       "      <td>0.462184</td>\n",
       "      <td>1.094051</td>\n",
       "      <td>1.123313</td>\n",
       "      <td>1.333380</td>\n",
       "      <td>1.795752</td>\n",
       "      <td>...</td>\n",
       "      <td>-3.000432</td>\n",
       "      <td>-2.433174</td>\n",
       "      <td>-2.306002</td>\n",
       "      <td>-0.859688</td>\n",
       "      <td>-0.379465</td>\n",
       "      <td>-3.077713</td>\n",
       "      <td>-2.510454</td>\n",
       "      <td>-2.383282</td>\n",
       "      <td>-0.936969</td>\n",
       "      <td>-0.456745</td>\n",
       "    </tr>\n",
       "  </tbody>\n",
       "</table>\n",
       "<p>1000000 rows × 41 columns</p>\n",
       "</div>"
      ],
      "text/plain": [
       "              c0        c1        c2        c3        c4         x0        x1  \\\n",
       "0      -1.835985 -0.200276  0.307883  0.846737  0.881642  -0.841891 -0.395122   \n",
       "1      -1.564807 -0.704982  0.324560  0.803672  1.141557  -2.863791 -0.940014   \n",
       "2      -0.943765 -0.709615 -0.178897 -0.057292  1.889568  -1.858036 -0.683525   \n",
       "3      -1.326672 -0.224720 -0.121221 -0.106013  1.778626  -1.129417 -0.555363   \n",
       "4      -1.304778 -1.106621  0.586837  0.733319  1.091243   3.440571  4.433043   \n",
       "...          ...       ...       ...       ...       ...        ...       ...   \n",
       "999995 -1.293000 -0.926157  0.081190  0.770370  1.367598  -1.724901 -1.452809   \n",
       "999996 -1.097871 -0.707429 -0.195416  0.208334  1.792382  -0.995203 -0.766171   \n",
       "999997 -1.858147  0.132844  0.173081  0.392063  1.160160  -1.473249 -1.186487   \n",
       "999998 -0.889253 -0.660368 -0.488640  0.165573  1.872688 -11.329503 -6.247512   \n",
       "999999 -1.204680 -0.637421 -0.510250  0.936064  1.416287   0.462184  1.094051   \n",
       "\n",
       "              x2        x3        x4  ...    t_c0x4    t_c1x4    t_c2x4  \\\n",
       "0      -0.320396  0.181357  1.253880  ... -3.089865 -1.454156 -0.945997   \n",
       "1      -0.641714 -0.425069  0.281821  ... -1.846628 -0.986804  0.042738   \n",
       "2      -0.592137 -0.537957 -0.215015  ... -0.728750 -0.494600  0.036118   \n",
       "3       0.028117  2.196814  2.929085  ... -4.255757 -3.153805 -3.050306   \n",
       "4       4.569447  5.770855  5.816063  ... -7.120841 -6.922684 -5.229226   \n",
       "...          ...       ...       ...  ...       ...       ...       ...   \n",
       "999995 -0.418077  1.332108  1.706942  ... -2.999941 -2.633099 -1.625752   \n",
       "999996 -0.637027 -0.296637  0.335552  ... -1.433423 -1.042982 -0.530968   \n",
       "999997 -0.920053 -0.086424  0.631940  ... -2.490087 -0.499096 -0.458859   \n",
       "999998 -3.637571 -2.667570  0.526810  ... -1.416063 -1.187178 -1.015450   \n",
       "999999  1.123313  1.333380  1.795752  ... -3.000432 -2.433174 -2.306002   \n",
       "\n",
       "          t_c3x4    t_c4x4     t_c0x5    t_c1x5    t_c2x5    t_c3x5    t_c4x5  \n",
       "0      -0.407143 -0.372238  -3.347856 -1.712147 -1.203988 -0.665134 -0.630229  \n",
       "1       0.521851  0.859736  -3.269097 -2.409273 -1.379731 -0.900619 -0.562734  \n",
       "2       0.157723  2.104583  -1.704149 -1.469999 -0.939281 -0.817676  1.129184  \n",
       "3      -3.035098 -1.150459  -4.854446 -3.752494 -3.648995 -3.633788 -1.749149  \n",
       "4      -5.082744 -4.724821 -10.080221 -9.882065 -8.188607 -8.042124 -7.684201  \n",
       "...          ...       ...        ...       ...       ...       ...       ...  \n",
       "999995 -0.936572 -0.339344  -3.115932 -2.749089 -1.741742 -1.052562 -0.455334  \n",
       "999996 -0.127218  1.456829  -1.976116 -1.585675 -1.073661 -0.669911  0.914137  \n",
       "999997 -0.239877  0.528220  -3.040425 -1.049434 -1.009197 -0.790215 -0.022118  \n",
       "999998 -0.361237  1.345878  -2.851099 -2.622214 -2.450486 -1.796272 -0.089158  \n",
       "999999 -0.859688 -0.379465  -3.077713 -2.510454 -2.383282 -0.936969 -0.456745  \n",
       "\n",
       "[1000000 rows x 41 columns]"
      ]
     },
     "execution_count": 6,
     "metadata": {},
     "output_type": "execute_result"
    }
   ],
   "source": [
    "experiments = generate_experiments(NUMBER_OF_EXPERIMENTS)\n",
    "feature_dataframe = create_feature_dataframe(experiments)\n",
    "feature_dataframe"
   ]
  },
  {
   "cell_type": "code",
   "execution_count": 7,
   "id": "2e168ab7",
   "metadata": {},
   "outputs": [],
   "source": [
    "classic_columns = [x for x in feature_dataframe.columns if x.startswith('c') or x.startswith('x')]\n",
    "synthesised_columns = [x for x in feature_dataframe.columns if x.startswith('t_')]\n",
    "all_columns = feature_dataframe.columns"
   ]
  },
  {
   "cell_type": "code",
   "execution_count": 8,
   "id": "d5c7232f",
   "metadata": {},
   "outputs": [
    {
     "name": "stdout",
     "output_type": "stream",
     "text": [
      "target_series.mean()=0.338791\n",
      "PROPORTION_OF_EXPERIMENTS_THAT_DO_NOTHING=0.66\n"
     ]
    }
   ],
   "source": [
    "target_series = create_target_series(experiments)\n",
    "print(f\"{target_series.mean()=}\\n{PROPORTION_OF_EXPERIMENTS_THAT_DO_NOTHING=}\")"
   ]
  },
  {
   "cell_type": "code",
   "execution_count": 9,
   "id": "ec838217",
   "metadata": {},
   "outputs": [],
   "source": [
    "class WelchTTest:\n",
    "    def __init__(self):\n",
    "        pass\n",
    "    def fit(self, X,y, weights=[]):\n",
    "        pass\n",
    "    def predict(self, Xs):\n",
    "        answer = []\n",
    "        for experiment in Xs:\n",
    "            outcome = scipy.stats.ttest_ind(experiment.ControlValues, experiment.ExperimentValues, equal_var=False)\n",
    "            if outcome.pvalue < 0.05:\n",
    "                answer.append(True)\n",
    "            else:\n",
    "                answer.append(False)\n",
    "        return answer\n",
    "    def predict_proba(self, Xs):\n",
    "        answer = []\n",
    "        for experiment in Xs:\n",
    "            outcome = scipy.stats.ttest_ind(experiment.ControlValues, experiment.ExperimentValues, equal_var=False)\n",
    "            # Is the following line correct? I think so, but maybe I should also be aware of the prior we have.\n",
    "            answer.append(1-outcome.pvalue)\n",
    "        return answer        "
   ]
  },
  {
   "cell_type": "code",
   "execution_count": 10,
   "id": "2db408ce",
   "metadata": {},
   "outputs": [
    {
     "name": "stdout",
     "output_type": "stream",
     "text": [
      "[[631193  30016]\n",
      " [146796 191995]]\n",
      "CPU times: user 3min 24s, sys: 12 s, total: 3min 36s\n",
      "Wall time: 4min 12s\n"
     ]
    }
   ],
   "source": [
    "%%time\n",
    "welch = WelchTTest()\n",
    "welch_answers = welch.predict(experiments)\n",
    "welch_probabilities = welch.predict_proba(experiments)\n",
    "print(sklearn.metrics.confusion_matrix(create_target_series(experiments), welch_answers))"
   ]
  },
  {
   "cell_type": "code",
   "execution_count": 11,
   "id": "bfbd35f0",
   "metadata": {},
   "outputs": [],
   "source": [
    "def type_1_error_ratio(y_true, y_pred):\n",
    "    return sklearn.metrics.confusion_matrix(y_true, y_pred)[0][1] / len(y_true)\n",
    "\n",
    "type_1_error_score = sklearn.metrics.make_scorer(type_1_error_ratio, greater_is_better=False)"
   ]
  },
  {
   "cell_type": "markdown",
   "id": "cf4acb0e",
   "metadata": {},
   "source": [
    "## The target to beat...\n",
    "\n",
    "For accuracy."
   ]
  },
  {
   "cell_type": "code",
   "execution_count": 12,
   "id": "5a4d5dd2",
   "metadata": {},
   "outputs": [
    {
     "data": {
      "text/plain": [
       "0.823188"
      ]
     },
     "execution_count": 12,
     "metadata": {},
     "output_type": "execute_result"
    }
   ],
   "source": [
    "welch_accuracy = sklearn.metrics.accuracy_score(target_series, welch_answers)\n",
    "welch_accuracy"
   ]
  },
  {
   "cell_type": "markdown",
   "id": "11d55178",
   "metadata": {},
   "source": [
    "But you have to keep the type 1 error rate below this..."
   ]
  },
  {
   "cell_type": "code",
   "execution_count": 13,
   "id": "17fc1fcb",
   "metadata": {},
   "outputs": [
    {
     "data": {
      "text/plain": [
       "0.030016"
      ]
     },
     "execution_count": 13,
     "metadata": {},
     "output_type": "execute_result"
    }
   ],
   "source": [
    "welch_type_1_error_ratio = type_1_error_ratio(target_series, welch_answers)\n",
    "welch_type_1_error_ratio"
   ]
  },
  {
   "cell_type": "code",
   "execution_count": 14,
   "id": "5998f70f",
   "metadata": {},
   "outputs": [
    {
     "data": {
      "text/plain": [
       "0.8389706805275661"
      ]
     },
     "execution_count": 14,
     "metadata": {},
     "output_type": "execute_result"
    }
   ],
   "source": [
    "welch_roc = sklearn.metrics.roc_auc_score(target_series, welch_probabilities)\n",
    "welch_roc"
   ]
  },
  {
   "cell_type": "code",
   "execution_count": 15,
   "id": "52148bcd",
   "metadata": {},
   "outputs": [
    {
     "data": {
      "text/plain": [
       "<sklearn.metrics._plot.roc_curve.RocCurveDisplay at 0x15972fb20>"
      ]
     },
     "execution_count": 15,
     "metadata": {},
     "output_type": "execute_result"
    },
    {
     "data": {
      "image/png": "[encoded data removed]",
      "text/plain": [
       "<Figure size 640x480 with 1 Axes>"
      ]
     },
     "metadata": {},
     "output_type": "display_data"
    }
   ],
   "source": [
    "fpr, tpr, thresholds = sklearn.metrics.roc_curve(target_series, welch_probabilities)\n",
    "roc_auc = sklearn.metrics.auc(fpr, tpr)\n",
    "display = sklearn.metrics.RocCurveDisplay(fpr=fpr, tpr=tpr, roc_auc=roc_auc,\n",
    "                                   estimator_name='Welch t-test')\n",
    "display.plot()"
   ]
  },
  {
   "cell_type": "markdown",
   "id": "44bb2a73",
   "metadata": {},
   "source": [
    "# Various utility functions"
   ]
  },
  {
   "cell_type": "code",
   "execution_count": 16,
   "id": "7c729231",
   "metadata": {},
   "outputs": [],
   "source": [
    "def display_awards(scores, award_recipient):\n",
    "    print(\"Mean accuracy:\", scores['test_accuracy'].mean())\n",
    "    print(\"Mean type 1 error:\", abs(scores['test_type_1_error_ratio'].mean()))\n",
    "    print(\"Mean ROC AUC score:\", scores['test_roc_auc'].mean())\n",
    "    if (abs(scores['test_type_1_error_ratio'].mean()) < 0.05 and scores['test_accuracy'].mean() > welch_accuracy):\n",
    "        print(f\"{award_recipient} beat the Welch t-test while maintaining a low type 1 error ratio\")\n",
    "    if abs(scores['test_type_1_error_ratio'].mean()) < welch_type_1_error_ratio:\n",
    "        print(f\"{award_recipient} beat the Welch t-test on type 1 errors\")\n",
    "    if (abs(scores['test_type_1_error_ratio'].mean()) < welch_type_1_error_ratio \n",
    "        and \n",
    "        scores['test_accuracy'].mean() > welch_accuracy):\n",
    "        print(f\"WE HAVE A WINNER!!!!\\n{award_recipient} beat the Welch t-test on type 1 errors AND on accuracy\")\n",
    "    if scores['test_roc_auc'].mean() > welch_roc:\n",
    "        print(f\"{award_recipient} beat Welch on ROC AUC\")"
   ]
  },
  {
   "cell_type": "code",
   "execution_count": 17,
   "id": "afe4f79e",
   "metadata": {},
   "outputs": [],
   "source": [
    "def measure_sklearn(model, title, columns_to_use=None):\n",
    "    if columns_to_use is None:\n",
    "        columns_to_use = feature_dataframe.columns\n",
    "    scores = sklearn.model_selection.cross_validate(model, \n",
    "                                       feature_dataframe[columns_to_use],\n",
    "                                       target_series,\n",
    "                                       scoring={'accuracy': 'accuracy', \n",
    "                                                'type_1_error_ratio': type_1_error_score,\n",
    "                                               'roc_auc': 'roc_auc'}\n",
    "                                      )\n",
    "    display_awards(scores, title)\n",
    "    return scores"
   ]
  },
  {
   "cell_type": "markdown",
   "id": "57614ff1",
   "metadata": {},
   "source": [
    "## Various stupid ways to fail to beat it\n",
    "\n",
    "Dummy gives us a baseline to be sure that the real models aren't just predicting the most common case."
   ]
  },
  {
   "cell_type": "code",
   "execution_count": 18,
   "id": "1b874255",
   "metadata": {},
   "outputs": [
    {
     "name": "stdout",
     "output_type": "stream",
     "text": [
      "Mean accuracy: 0.661209\n",
      "Mean type 1 error: 0.0\n",
      "Mean ROC AUC score: 0.5\n",
      "Dummy beat the Welch t-test on type 1 errors\n"
     ]
    }
   ],
   "source": [
    "dummy_scores = measure_sklearn(sklearn.dummy.DummyClassifier(strategy='most_frequent'), \"Dummy\")"
   ]
  },
  {
   "cell_type": "markdown",
   "id": "3c3e634c",
   "metadata": {},
   "source": [
    "# Random forest using the original measurements\n",
    "\n",
    "It seems to beat Welch if there is enough training data."
   ]
  },
  {
   "cell_type": "code",
   "execution_count": 19,
   "id": "6214116e",
   "metadata": {},
   "outputs": [
    {
     "name": "stdout",
     "output_type": "stream",
     "text": [
      "Mean accuracy: 0.8605579999999999\n",
      "Mean type 1 error: 0.038031999999999996\n",
      "Mean ROC AUC score: 0.8974759518606398\n",
      "Random forest using original measurements beat the Welch t-test while maintaining a low type 1 error ratio\n",
      "Random forest using original measurements beat Welch on ROC AUC\n",
      "CPU times: user 33min 50s, sys: 6.96 s, total: 33min 57s\n",
      "Wall time: 34min\n"
     ]
    }
   ],
   "source": [
    "%%time\n",
    "rfc_classic_scores = measure_sklearn(sklearn.ensemble.RandomForestClassifier(), \n",
    "                                     \"Random forest using original measurements\",\n",
    "                                    classic_columns)"
   ]
  },
  {
   "cell_type": "markdown",
   "id": "1922892f",
   "metadata": {},
   "source": [
    "# Random forest using synthesised differences\n",
    "\n",
    "It seems to beat Welch if there is enough training data."
   ]
  },
  {
   "cell_type": "code",
   "execution_count": 20,
   "id": "8379b936",
   "metadata": {},
   "outputs": [
    {
     "name": "stdout",
     "output_type": "stream",
     "text": [
      "Mean accuracy: 0.8604240000000001\n",
      "Mean type 1 error: 0.038327999999999994\n",
      "Mean ROC AUC score: 0.8967805881597958\n",
      "Random forest using synthetic measurements beat the Welch t-test while maintaining a low type 1 error ratio\n",
      "Random forest using synthetic measurements beat Welch on ROC AUC\n",
      "CPU times: user 54min 43s, sys: 7.77 s, total: 54min 51s\n",
      "Wall time: 55min 2s\n"
     ]
    }
   ],
   "source": [
    "%%time\n",
    "rfc_synthesised_scores = measure_sklearn(sklearn.ensemble.RandomForestClassifier(), \n",
    "                                     \"Random forest using synthetic measurements\",\n",
    "                                    synthesised_columns)"
   ]
  },
  {
   "cell_type": "markdown",
   "id": "1855d59c",
   "metadata": {},
   "source": [
    "# Neighbour methods"
   ]
  },
  {
   "cell_type": "code",
   "execution_count": 21,
   "id": "eeeaa786",
   "metadata": {},
   "outputs": [
    {
     "name": "stdout",
     "output_type": "stream",
     "text": [
      "Mean accuracy: 0.845391\n",
      "Mean type 1 error: 0.05423300000000001\n",
      "Mean ROC AUC score: 0.8649647941904639\n",
      "KNeighbours beat Welch on ROC AUC\n",
      "CPU times: user 6min 4s, sys: 300 ms, total: 6min 5s\n",
      "Wall time: 6min 5s\n"
     ]
    }
   ],
   "source": [
    "%%time\n",
    "knn_classic_scores = measure_sklearn(sklearn.neighbors.KNeighborsClassifier(), 'KNeighbours', classic_columns)"
   ]
  },
  {
   "cell_type": "code",
   "execution_count": 22,
   "id": "147b5832",
   "metadata": {},
   "outputs": [
    {
     "name": "stdout",
     "output_type": "stream",
     "text": [
      "Mean accuracy: 0.8455\n",
      "Mean type 1 error: 0.054122\n",
      "Mean ROC AUC score: 0.8650415919960117\n",
      "KNeighbours beat Welch on ROC AUC\n",
      "CPU times: user 2h 21min 23s, sys: 25.3 s, total: 2h 21min 48s\n",
      "Wall time: 18min 58s\n"
     ]
    }
   ],
   "source": [
    "%%time\n",
    "knn_synth_scores = measure_sklearn(sklearn.neighbors.KNeighborsClassifier(), 'KNeighbours', synthesised_columns)"
   ]
  },
  {
   "cell_type": "markdown",
   "id": "e4e9ca9f",
   "metadata": {},
   "source": [
    "# Neural networks"
   ]
  },
  {
   "cell_type": "code",
   "execution_count": 23,
   "id": "59262e03",
   "metadata": {},
   "outputs": [
    {
     "data": {
      "text/plain": [
       "[PhysicalDevice(name='/physical_device:CPU:0', device_type='CPU'),\n",
       " PhysicalDevice(name='/physical_device:GPU:0', device_type='GPU')]"
      ]
     },
     "execution_count": 23,
     "metadata": {},
     "output_type": "execute_result"
    }
   ],
   "source": [
    "from tensorflow.keras import models\n",
    "from tensorflow.keras import layers\n",
    "\n",
    "from sklearn.model_selection import KFold\n",
    "kfold = KFold(n_splits=5, shuffle=True)\n",
    "\n",
    "import numpy as np\n",
    "import tensorflow as tf\n",
    "tf.config.experimental.list_physical_devices()"
   ]
  },
  {
   "cell_type": "code",
   "execution_count": 24,
   "id": "fff1a64f",
   "metadata": {},
   "outputs": [
    {
     "name": "stdout",
     "output_type": "stream",
     "text": [
      "Fold 0\n",
      "Metal device set to: Apple M1\n"
     ]
    },
    {
     "name": "stderr",
     "output_type": "stream",
     "text": [
      "2023-09-13 00:21:24.345732: I tensorflow/core/common_runtime/pluggable_device/pluggable_device_factory.cc:305] Could not identify NUMA node of platform GPU ID 0, defaulting to 0. Your kernel may not have been built with NUMA support.\n",
      "2023-09-13 00:21:24.346206: I tensorflow/core/common_runtime/pluggable_device/pluggable_device_factory.cc:271] Created TensorFlow device (/job:localhost/replica:0/task:0/device:GPU:0 with 0 MB memory) -> physical PluggableDevice (device: 0, name: METAL, pci bus id: <undefined>)\n",
      "2023-09-13 00:21:24.974060: W tensorflow/core/platform/profile_utils/cpu_utils.cc:128] Failed to get CPU frequency: 0 Hz\n",
      "2023-09-13 00:21:25.129375: I tensorflow/core/grappler/optimizers/custom_graph_optimizer_registry.cc:113] Plugin optimizer for device_type GPU is enabled.\n",
      "2023-09-13 00:21:29.688767: I tensorflow/core/grappler/optimizers/custom_graph_optimizer_registry.cc:113] Plugin optimizer for device_type GPU is enabled.\n"
     ]
    },
    {
     "name": "stdout",
     "output_type": "stream",
     "text": [
      " 121/6250 [..............................] - ETA: 7s"
     ]
    },
    {
     "name": "stderr",
     "output_type": "stream",
     "text": [
      "2023-09-13 00:23:19.283067: I tensorflow/core/grappler/optimizers/custom_graph_optimizer_registry.cc:113] Plugin optimizer for device_type GPU is enabled.\n"
     ]
    },
    {
     "name": "stdout",
     "output_type": "stream",
     "text": [
      "6250/6250 [==============================] - 10s 2ms/step\n",
      "6250/6250 [==============================] - 9s 1ms/step\n",
      "After 18 epochs out of 300\n",
      "loss of fold 0: 0.337019\n",
      "accuracy of fold 0: 0.864190\n",
      "Type 1 error ratio of fold 0: 0.040155\n",
      "\n",
      "Fold 1\n"
     ]
    },
    {
     "name": "stderr",
     "output_type": "stream",
     "text": [
      "2023-09-13 00:23:41.620892: I tensorflow/core/grappler/optimizers/custom_graph_optimizer_registry.cc:113] Plugin optimizer for device_type GPU is enabled.\n",
      "2023-09-13 00:23:46.142612: I tensorflow/core/grappler/optimizers/custom_graph_optimizer_registry.cc:113] Plugin optimizer for device_type GPU is enabled.\n"
     ]
    },
    {
     "name": "stdout",
     "output_type": "stream",
     "text": [
      " 124/6250 [..............................] - ETA: 7s"
     ]
    },
    {
     "name": "stderr",
     "output_type": "stream",
     "text": [
      "2023-09-13 00:26:05.676410: I tensorflow/core/grappler/optimizers/custom_graph_optimizer_registry.cc:113] Plugin optimizer for device_type GPU is enabled.\n"
     ]
    },
    {
     "name": "stdout",
     "output_type": "stream",
     "text": [
      "6250/6250 [==============================] - 8s 1ms/step\n",
      "6250/6250 [==============================] - 8s 1ms/step\n",
      "After 23 epochs out of 300\n",
      "loss of fold 1: 0.341523\n",
      "accuracy of fold 1: 0.861830\n",
      "Type 1 error ratio of fold 1: 0.034255\n",
      "\n",
      "Fold 2\n"
     ]
    },
    {
     "name": "stderr",
     "output_type": "stream",
     "text": [
      "2023-09-13 00:26:22.508783: I tensorflow/core/grappler/optimizers/custom_graph_optimizer_registry.cc:113] Plugin optimizer for device_type GPU is enabled.\n",
      "2023-09-13 00:26:26.944752: I tensorflow/core/grappler/optimizers/custom_graph_optimizer_registry.cc:113] Plugin optimizer for device_type GPU is enabled.\n"
     ]
    },
    {
     "name": "stdout",
     "output_type": "stream",
     "text": [
      " 121/6250 [..............................] - ETA: 7s"
     ]
    },
    {
     "name": "stderr",
     "output_type": "stream",
     "text": [
      "2023-09-13 00:27:37.545715: I tensorflow/core/grappler/optimizers/custom_graph_optimizer_registry.cc:113] Plugin optimizer for device_type GPU is enabled.\n"
     ]
    },
    {
     "name": "stdout",
     "output_type": "stream",
     "text": [
      "6250/6250 [==============================] - 7s 1ms/step\n",
      "6250/6250 [==============================] - 8s 1ms/step\n",
      "After 11 epochs out of 300\n",
      "loss of fold 2: 0.341879\n",
      "accuracy of fold 2: 0.861180\n",
      "Type 1 error ratio of fold 2: 0.035530\n",
      "\n",
      "Fold 3\n"
     ]
    },
    {
     "name": "stderr",
     "output_type": "stream",
     "text": [
      "2023-09-13 00:27:54.136408: I tensorflow/core/grappler/optimizers/custom_graph_optimizer_registry.cc:113] Plugin optimizer for device_type GPU is enabled.\n",
      "2023-09-13 00:27:58.703349: I tensorflow/core/grappler/optimizers/custom_graph_optimizer_registry.cc:113] Plugin optimizer for device_type GPU is enabled.\n"
     ]
    },
    {
     "name": "stdout",
     "output_type": "stream",
     "text": [
      " 126/6250 [..............................] - ETA: 7s"
     ]
    },
    {
     "name": "stderr",
     "output_type": "stream",
     "text": [
      "2023-09-13 00:29:50.200971: I tensorflow/core/grappler/optimizers/custom_graph_optimizer_registry.cc:113] Plugin optimizer for device_type GPU is enabled.\n"
     ]
    },
    {
     "name": "stdout",
     "output_type": "stream",
     "text": [
      "6250/6250 [==============================] - 8s 1ms/step\n",
      "6250/6250 [==============================] - 8s 1ms/step\n",
      "After 19 epochs out of 300\n",
      "loss of fold 3: 0.340281\n",
      "accuracy of fold 3: 0.862155\n",
      "Type 1 error ratio of fold 3: 0.041750\n",
      "\n",
      "Fold 4\n"
     ]
    },
    {
     "name": "stderr",
     "output_type": "stream",
     "text": [
      "2023-09-13 00:30:06.965728: I tensorflow/core/grappler/optimizers/custom_graph_optimizer_registry.cc:113] Plugin optimizer for device_type GPU is enabled.\n",
      "2023-09-13 00:30:11.390154: I tensorflow/core/grappler/optimizers/custom_graph_optimizer_registry.cc:113] Plugin optimizer for device_type GPU is enabled.\n"
     ]
    },
    {
     "name": "stdout",
     "output_type": "stream",
     "text": [
      " 124/6250 [..............................] - ETA: 7s"
     ]
    },
    {
     "name": "stderr",
     "output_type": "stream",
     "text": [
      "2023-09-13 00:31:27.329989: I tensorflow/core/grappler/optimizers/custom_graph_optimizer_registry.cc:113] Plugin optimizer for device_type GPU is enabled.\n"
     ]
    },
    {
     "name": "stdout",
     "output_type": "stream",
     "text": [
      "6250/6250 [==============================] - 8s 1ms/step\n",
      "6250/6250 [==============================] - 8s 1ms/step\n",
      "After 12 epochs out of 300\n",
      "loss of fold 4: 0.338736\n",
      "accuracy of fold 4: 0.863675\n",
      "Type 1 error ratio of fold 4: 0.035265\n",
      "\n",
      "Mean accuracy: 0.8626060009002685\n",
      "Mean type 1 error: 0.037391\n",
      "Mean ROC AUC score: 0.9035928489283691\n",
      "Neural network with 20 hidden neurons beat the Welch t-test while maintaining a low type 1 error ratio\n",
      "Neural network with 20 hidden neurons beat Welch on ROC AUC\n",
      "CPU times: user 8min 39s, sys: 2min 33s, total: 11min 12s\n",
      "Wall time: 10min 19s\n"
     ]
    }
   ],
   "source": [
    "%%time\n",
    "inputs = feature_dataframe.to_numpy(dtype=float)\n",
    "targets = target_series.to_numpy(dtype=float)\n",
    "max_epochs = 300\n",
    "hidden_size = 20\n",
    "batch_size = 512\n",
    "nn_scores = []\n",
    "type_1_errors = []\n",
    "accuracies = []\n",
    "roc_scores = []\n",
    "for fold, content in enumerate(kfold.split(inputs,targets)):\n",
    "    train, test = content\n",
    "    print(\"Fold\", fold)\n",
    "\n",
    "    model = models.Sequential()\n",
    "    model.add(layers.Dense(hidden_size, activation='relu',input_shape=(feature_dataframe.shape[1],)))\n",
    "    model.add(layers.Dense(1, activation='sigmoid'))\n",
    "    model.compile(optimizer='adam',\n",
    "                  loss='binary_crossentropy',\n",
    "                  metrics=['accuracy'])\n",
    "\n",
    "    earlystopping = tf.keras.callbacks.EarlyStopping(monitor='accuracy', patience=5)\n",
    "    history = model.fit(inputs[train], targets[train],\n",
    "                    epochs=max_epochs,\n",
    "                    batch_size=batch_size,\n",
    "                    validation_split=0.2,\n",
    "                    callbacks=[earlystopping],\n",
    "                    verbose=0)\n",
    "    scores = model.evaluate(inputs[test], targets[test], verbose=0)\n",
    "    predictions = model.predict(inputs[test])[:,0] >= 0.5 # Predict 1 if the probability is >= 0.5\n",
    "    type_1_error = type_1_error_ratio(targets[test], predictions)\n",
    "    prediction_probabilies = model.predict(inputs[test])[:,0]\n",
    "    roc_score = sklearn.metrics.roc_auc_score(targets[test], prediction_probabilies)\n",
    "    print(\"After %i epochs out of %i\" % (len(history.history['accuracy']), max_epochs))\n",
    "    print(\"%s of fold %i: %f\" % (model.metrics_names[0], fold, scores[0]))\n",
    "    print(\"%s of fold %i: %f\" % (model.metrics_names[1], fold, scores[1]))\n",
    "    print(\"Type 1 error ratio of fold %i: %f\" % (fold, type_1_error))\n",
    "    print()\n",
    "    accuracies.append(scores[1])\n",
    "    type_1_errors.append(type_1_error)\n",
    "    roc_scores.append(roc_score)\n",
    "nn_scores = {\n",
    "    'test_accuracy': numpy.array(accuracies),\n",
    "    'test_type_1_error_ratio': numpy.array(type_1_errors),\n",
    "    'test_roc_auc': numpy.array(roc_scores)\n",
    "}\n",
    "display_awards(nn_scores, f\"Neural network with {hidden_size} hidden neurons\")"
   ]
  },
  {
   "cell_type": "markdown",
   "id": "f47a6fbf",
   "metadata": {},
   "source": [
    "# Linear polyterms\n",
    "\n",
    "No, you didn't see this. No good can possibly come of it."
   ]
  },
  {
   "cell_type": "code",
   "execution_count": 25,
   "id": "d9c4c86f",
   "metadata": {},
   "outputs": [],
   "source": [
    "import sklearn.pipeline\n",
    "import sklearn.preprocessing\n",
    "\n",
    "pipeline = sklearn.pipeline.make_pipeline(\n",
    "    sklearn.preprocessing.PolynomialFeatures(include_bias=False),\n",
    "    sklearn.linear_model.LogisticRegression(max_iter=100000, C=1e12)\n",
    ")"
   ]
  },
  {
   "cell_type": "code",
   "execution_count": 26,
   "id": "ec80b6ea",
   "metadata": {},
   "outputs": [
    {
     "name": "stdout",
     "output_type": "stream",
     "text": [
      "Mean accuracy: 0.855793\n",
      "Mean type 1 error: 0.03447100000000001\n",
      "Mean ROC AUC score: 0.8918289606310641\n",
      "LinearPoly beat the Welch t-test while maintaining a low type 1 error ratio\n",
      "LinearPoly beat Welch on ROC AUC\n",
      "CPU times: user 3h 40min 2s, sys: 5min 42s, total: 3h 45min 45s\n",
      "Wall time: 30min 59s\n"
     ]
    }
   ],
   "source": [
    "%%time\n",
    "logreg_poly_scores = measure_sklearn(pipeline, 'LinearPoly', synthesised_columns)"
   ]
  },
  {
   "cell_type": "code",
   "execution_count": 27,
   "id": "3297cbbb",
   "metadata": {},
   "outputs": [
    {
     "name": "stdout",
     "output_type": "stream",
     "text": [
      "CPU times: user 31min 52s, sys: 2min 17s, total: 34min 10s\n",
      "Wall time: 5min 1s\n"
     ]
    },
    {
     "data": {
      "text/html": [
       "<style>#sk-container-id-1 {color: black;background-color: white;}#sk-container-id-1 pre{padding: 0;}#sk-container-id-1 div.sk-toggleable {background-color: white;}#sk-container-id-1 label.sk-toggleable__label {cursor: pointer;display: block;width: 100%;margin-bottom: 0;padding: 0.3em;box-sizing: border-box;text-align: center;}#sk-container-id-1 label.sk-toggleable__label-arrow:before {content: \"▸\";float: left;margin-right: 0.25em;color: #696969;}#sk-container-id-1 label.sk-toggleable__label-arrow:hover:before {color: black;}#sk-container-id-1 div.sk-estimator:hover label.sk-toggleable__label-arrow:before {color: black;}#sk-container-id-1 div.sk-toggleable__content {max-height: 0;max-width: 0;overflow: hidden;text-align: left;background-color: #f0f8ff;}#sk-container-id-1 div.sk-toggleable__content pre {margin: 0.2em;color: black;border-radius: 0.25em;background-color: #f0f8ff;}#sk-container-id-1 input.sk-toggleable__control:checked~div.sk-toggleable__content {max-height: 200px;max-width: 100%;overflow: auto;}#sk-container-id-1 input.sk-toggleable__control:checked~label.sk-toggleable__label-arrow:before {content: \"▾\";}#sk-container-id-1 div.sk-estimator input.sk-toggleable__control:checked~label.sk-toggleable__label {background-color: #d4ebff;}#sk-container-id-1 div.sk-label input.sk-toggleable__control:checked~label.sk-toggleable__label {background-color: #d4ebff;}#sk-container-id-1 input.sk-hidden--visually {border: 0;clip: rect(1px 1px 1px 1px);clip: rect(1px, 1px, 1px, 1px);height: 1px;margin: -1px;overflow: hidden;padding: 0;position: absolute;width: 1px;}#sk-container-id-1 div.sk-estimator {font-family: monospace;background-color: #f0f8ff;border: 1px dotted black;border-radius: 0.25em;box-sizing: border-box;margin-bottom: 0.5em;}#sk-container-id-1 div.sk-estimator:hover {background-color: #d4ebff;}#sk-container-id-1 div.sk-parallel-item::after {content: \"\";width: 100%;border-bottom: 1px solid gray;flex-grow: 1;}#sk-container-id-1 div.sk-label:hover label.sk-toggleable__label {background-color: #d4ebff;}#sk-container-id-1 div.sk-serial::before {content: \"\";position: absolute;border-left: 1px solid gray;box-sizing: border-box;top: 0;bottom: 0;left: 50%;z-index: 0;}#sk-container-id-1 div.sk-serial {display: flex;flex-direction: column;align-items: center;background-color: white;padding-right: 0.2em;padding-left: 0.2em;position: relative;}#sk-container-id-1 div.sk-item {position: relative;z-index: 1;}#sk-container-id-1 div.sk-parallel {display: flex;align-items: stretch;justify-content: center;background-color: white;position: relative;}#sk-container-id-1 div.sk-item::before, #sk-container-id-1 div.sk-parallel-item::before {content: \"\";position: absolute;border-left: 1px solid gray;box-sizing: border-box;top: 0;bottom: 0;left: 50%;z-index: -1;}#sk-container-id-1 div.sk-parallel-item {display: flex;flex-direction: column;z-index: 1;position: relative;background-color: white;}#sk-container-id-1 div.sk-parallel-item:first-child::after {align-self: flex-end;width: 50%;}#sk-container-id-1 div.sk-parallel-item:last-child::after {align-self: flex-start;width: 50%;}#sk-container-id-1 div.sk-parallel-item:only-child::after {width: 0;}#sk-container-id-1 div.sk-dashed-wrapped {border: 1px dashed gray;margin: 0 0.4em 0.5em 0.4em;box-sizing: border-box;padding-bottom: 0.4em;background-color: white;}#sk-container-id-1 div.sk-label label {font-family: monospace;font-weight: bold;display: inline-block;line-height: 1.2em;}#sk-container-id-1 div.sk-label-container {text-align: center;}#sk-container-id-1 div.sk-container {/* jupyter's `normalize.less` sets `[hidden] { display: none; }` but bootstrap.min.css set `[hidden] { display: none !important; }` so we also need the `!important` here to be able to override the default hidden behavior on the sphinx rendered scikit-learn.org. See: https://github.com/scikit-learn/scikit-learn/issues/21755 */display: inline-block !important;position: relative;}#sk-container-id-1 div.sk-text-repr-fallback {display: none;}</style><div id=\"sk-container-id-1\" class=\"sk-top-container\"><div class=\"sk-text-repr-fallback\"><pre>Pipeline(steps=[(&#x27;polynomialfeatures&#x27;, PolynomialFeatures(include_bias=False)),\n",
       "                (&#x27;logisticregression&#x27;,\n",
       "                 LogisticRegression(C=1000000000000.0, max_iter=100000))])</pre><b>In a Jupyter environment, please rerun this cell to show the HTML representation or trust the notebook. <br />On GitHub, the HTML representation is unable to render, please try loading this page with nbviewer.org.</b></div><div class=\"sk-container\" hidden><div class=\"sk-item sk-dashed-wrapped\"><div class=\"sk-label-container\"><div class=\"sk-label sk-toggleable\"><input class=\"sk-toggleable__control sk-hidden--visually\" id=\"sk-estimator-id-1\" type=\"checkbox\" ><label for=\"sk-estimator-id-1\" class=\"sk-toggleable__label sk-toggleable__label-arrow\">Pipeline</label><div class=\"sk-toggleable__content\"><pre>Pipeline(steps=[(&#x27;polynomialfeatures&#x27;, PolynomialFeatures(include_bias=False)),\n",
       "                (&#x27;logisticregression&#x27;,\n",
       "                 LogisticRegression(C=1000000000000.0, max_iter=100000))])</pre></div></div></div><div class=\"sk-serial\"><div class=\"sk-item\"><div class=\"sk-estimator sk-toggleable\"><input class=\"sk-toggleable__control sk-hidden--visually\" id=\"sk-estimator-id-2\" type=\"checkbox\" ><label for=\"sk-estimator-id-2\" class=\"sk-toggleable__label sk-toggleable__label-arrow\">PolynomialFeatures</label><div class=\"sk-toggleable__content\"><pre>PolynomialFeatures(include_bias=False)</pre></div></div></div><div class=\"sk-item\"><div class=\"sk-estimator sk-toggleable\"><input class=\"sk-toggleable__control sk-hidden--visually\" id=\"sk-estimator-id-3\" type=\"checkbox\" ><label for=\"sk-estimator-id-3\" class=\"sk-toggleable__label sk-toggleable__label-arrow\">LogisticRegression</label><div class=\"sk-toggleable__content\"><pre>LogisticRegression(C=1000000000000.0, max_iter=100000)</pre></div></div></div></div></div></div></div>"
      ],
      "text/plain": [
       "Pipeline(steps=[('polynomialfeatures', PolynomialFeatures(include_bias=False)),\n",
       "                ('logisticregression',\n",
       "                 LogisticRegression(C=1000000000000.0, max_iter=100000))])"
      ]
     },
     "execution_count": 27,
     "metadata": {},
     "output_type": "execute_result"
    }
   ],
   "source": [
    "%%time\n",
    "pipeline.fit(feature_dataframe[synthesised_columns], target_series)"
   ]
  },
  {
   "cell_type": "code",
   "execution_count": 28,
   "id": "1ce77d29",
   "metadata": {},
   "outputs": [
    {
     "data": {
      "text/plain": [
       "array([-0.00651025])"
      ]
     },
     "execution_count": 28,
     "metadata": {},
     "output_type": "execute_result"
    }
   ],
   "source": [
    "pipeline.named_steps['logisticregression'].intercept_"
   ]
  },
  {
   "cell_type": "code",
   "execution_count": 29,
   "id": "699e1672",
   "metadata": {},
   "outputs": [
    {
     "data": {
      "text/plain": [
       "t_c0x0          -0.001188\n",
       "t_c1x0          -0.005108\n",
       "t_c2x0          -0.007726\n",
       "t_c3x0          -0.010323\n",
       "t_c4x0          -0.013874\n",
       "                   ...   \n",
       "t_c2x5 t_c3x5    0.000561\n",
       "t_c2x5 t_c4x5    0.004595\n",
       "t_c3x5^2        -0.003753\n",
       "t_c3x5 t_c4x5    0.001273\n",
       "t_c4x5^2        -0.008130\n",
       "Length: 495, dtype: float64"
      ]
     },
     "execution_count": 29,
     "metadata": {},
     "output_type": "execute_result"
    }
   ],
   "source": [
    "strengths = pandas.Series(index=pipeline.named_steps['polynomialfeatures'].get_feature_names_out(),\n",
    "                          data=pipeline.named_steps['logisticregression'].coef_[0])\n",
    "strengths"
   ]
  },
  {
   "cell_type": "code",
   "execution_count": 30,
   "id": "38d6db22",
   "metadata": {},
   "outputs": [
    {
     "data": {
      "text/plain": [
       "<AxesSubplot: xlabel='v2', ylabel='v1'>"
      ]
     },
     "execution_count": 30,
     "metadata": {},
     "output_type": "execute_result"
    },
    {
     "data": {
      "image/png": "[encoded data removed]",
      "text/plain": [
       "<Figure size 640x480 with 2 Axes>"
      ]
     },
     "metadata": {},
     "output_type": "display_data"
    }
   ],
   "source": [
    "cross_term_strengths = strengths[strengths.index.str.contains(' ')\n",
    "                                ].reset_index().rename(columns={'index': 'vars', 0: 'strength'})\n",
    "cross_term_strengths['var_split'] = cross_term_strengths.vars.str.split(' ')\n",
    "cross_term_strengths['v1'] = cross_term_strengths.var_split.map(lambda x: x[0])\n",
    "cross_term_strengths['v2'] = cross_term_strengths.var_split.map(lambda x: x[1])\n",
    "cross_term_strengths.drop('var_split', axis=1, inplace=True)\n",
    "cross_term_strengths.drop('vars', axis=1, inplace=True)\n",
    "cross_term_table = cross_term_strengths.pivot_table(\n",
    "    index='v1',\n",
    "    columns='v2',\n",
    "    values='strength',\n",
    "    #fill_value=0\n",
    ")\n",
    "import seaborn\n",
    "seaborn.heatmap(cross_term_table)"
   ]
  },
  {
   "cell_type": "code",
   "execution_count": 31,
   "id": "685ec4c4",
   "metadata": {},
   "outputs": [
    {
     "data": {
      "text/plain": [
       "<AxesSubplot: xlabel='experimentvar', ylabel='controlvar'>"
      ]
     },
     "execution_count": 31,
     "metadata": {},
     "output_type": "execute_result"
    },
    {
     "data": {
      "image/png": "[encoded data removed]",
      "text/plain": [
       "<Figure size 640x480 with 2 Axes>"
      ]
     },
     "metadata": {},
     "output_type": "display_data"
    }
   ],
   "source": [
    "square_term_strengths = strengths[strengths.index.str.contains('^2', regex=False)\n",
    "                                 ].reset_index().rename(columns={'index': 'varname',\n",
    "                                                                0: 'strength'})\n",
    "square_term_strengths['controlvar'] = square_term_strengths.varname.str.extract('t_c([0-9]+).*')\n",
    "square_term_strengths['experimentvar'] = square_term_strengths.varname.str.extract('x([0-9]+)')\n",
    "square_term_table = square_term_strengths.pivot_table(\n",
    "    index='controlvar',\n",
    "    columns='experimentvar',\n",
    "    values='strength'\n",
    ")\n",
    "seaborn.heatmap(square_term_table, annot=True)"
   ]
  },
  {
   "cell_type": "code",
   "execution_count": 32,
   "id": "88c80d66",
   "metadata": {},
   "outputs": [
    {
     "data": {
      "text/plain": [
       "<AxesSubplot: xlabel='experimentvar', ylabel='controlvar'>"
      ]
     },
     "execution_count": 32,
     "metadata": {},
     "output_type": "execute_result"
    },
    {
     "data": {
      "image/png": "[encoded data removed]",
      "text/plain": [
       "<Figure size 640x480 with 2 Axes>"
      ]
     },
     "metadata": {},
     "output_type": "display_data"
    }
   ],
   "source": [
    "monoterm_strengths = strengths[~strengths.index.str.contains('^2', regex=False) & ~strengths.index.str.contains(' ')\n",
    "                              ].reset_index().rename(columns={'index': 'varname',\n",
    "                                                                0: 'strength'})\n",
    "monoterm_strengths['controlvar'] = monoterm_strengths.varname.str.extract('t_c([0-9]+).*')\n",
    "monoterm_strengths['experimentvar'] = monoterm_strengths.varname.str.extract('x([0-9]+)')\n",
    "monoterm_table = monoterm_strengths.pivot_table(\n",
    "    index='controlvar',\n",
    "    columns='experimentvar',\n",
    "    values='strength'\n",
    ")\n",
    "seaborn.heatmap(monoterm_table, annot=True)"
   ]
  },
  {
   "cell_type": "code",
   "execution_count": 33,
   "id": "b108dd30",
   "metadata": {},
   "outputs": [
    {
     "data": {
      "text/plain": [
       "<AxesSubplot: xlabel='strength', ylabel='Count'>"
      ]
     },
     "execution_count": 33,
     "metadata": {},
     "output_type": "execute_result"
    },
    {
     "data": {
      "image/png": "[encoded data removed]",
      "text/plain": [
       "<Figure size 640x480 with 1 Axes>"
      ]
     },
     "metadata": {},
     "output_type": "display_data"
    }
   ],
   "source": [
    "import matplotlib.pyplot\n",
    "fig, ax = matplotlib.pyplot.subplots()\n",
    "seaborn.histplot(monoterm_strengths.strength, ax=ax, kde=True, label=\"Mono terms\")\n",
    "seaborn.histplot(square_term_strengths.strength, ax=ax, kde=True, label=\"Square terms\")\n",
    "seaborn.histplot(cross_term_strengths.strength, ax=ax, kde=True, label=\"Cross terms\")\n",
    "\n",
    "#monoterm_strengths.plot.hist(ax=ax)"
   ]
  },
  {
   "cell_type": "code",
   "execution_count": null,
   "id": "93ccc697",
   "metadata": {},
   "outputs": [],
   "source": []
  }
 ],
 "metadata": {
  "kernelspec": {
   "display_name": "Python 3 (ipykernel)",
   "language": "python",
   "name": "python3"
  },
  "language_info": {
   "codemirror_mode": {
    "name": "ipython",
    "version": 3
   },
   "file_extension": ".py",
   "mimetype": "text/x-python",
   "name": "python",
   "nbconvert_exporter": "python",
   "pygments_lexer": "ipython3",
   "version": "3.10.12"
  }
 },
 "nbformat": 4,
 "nbformat_minor": 5
}
